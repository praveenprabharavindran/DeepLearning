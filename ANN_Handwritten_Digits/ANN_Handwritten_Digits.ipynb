{
  "nbformat": 4,
  "nbformat_minor": 0,
  "metadata": {
    "colab": {
      "provenance": [],
      "toc_visible": true,
      "authorship_tag": "ABX9TyMKS22BR0e1Lk7/8brolAr0",
      "include_colab_link": true
    },
    "kernelspec": {
      "name": "python3",
      "display_name": "Python 3"
    },
    "language_info": {
      "name": "python"
    }
  },
  "cells": [
    {
      "cell_type": "markdown",
      "metadata": {
        "id": "view-in-github",
        "colab_type": "text"
      },
      "source": [
        "<a href=\"https://colab.research.google.com/github/praveenprabharavindran/MachineLearning/blob/main/ANN_Handwritten_Digits/ANN_Handwritten_Digits.ipynb\" target=\"_parent\"><img src=\"https://colab.research.google.com/assets/colab-badge.svg\" alt=\"Open In Colab\"/></a>"
      ]
    },
    {
      "cell_type": "markdown",
      "source": [
        "# 1. Load the dataset"
      ],
      "metadata": {
        "id": "IrWn2k662YQ8"
      }
    },
    {
      "cell_type": "markdown",
      "source": [
        "## Import the mnist dataset"
      ],
      "metadata": {
        "id": "Gd50ZnnC1-Y8"
      }
    },
    {
      "cell_type": "code",
      "execution_count": 3,
      "metadata": {
        "id": "bem42ymn1sti",
        "outputId": "0f47a9e0-5794-4eba-8355-3274675cbf27",
        "colab": {
          "base_uri": "https://localhost:8080/"
        }
      },
      "outputs": [
        {
          "output_type": "stream",
          "name": "stdout",
          "text": [
            "Train labels y_train[:5] [5 0 4 1 9]\n",
            "Test labels y_train[:5] [7 2 1 0 4]\n",
            "Shape of x_train (60000, 28, 28)\n",
            "Shape of y_train (60000,)\n"
          ]
        }
      ],
      "source": [
        "# Import the mnist dataset\n",
        "from tensorflow.keras.datasets import mnist"
      ]
    },
    {
      "cell_type": "markdown",
      "source": [
        "## Split into Train and Test"
      ],
      "metadata": {
        "id": "2LUysXmF2FPl"
      }
    },
    {
      "cell_type": "code",
      "source": [
        "# Split into Train and test\n",
        "(x_train,y_train),(x_test,y_test)=mnist.load_data()"
      ],
      "metadata": {
        "id": "jcY5wrGd2C8M"
      },
      "execution_count": null,
      "outputs": []
    },
    {
      "cell_type": "markdown",
      "source": [
        "## Inspect the data"
      ],
      "metadata": {
        "id": "tmqEIY812Nb1"
      }
    },
    {
      "cell_type": "code",
      "source": [
        "# Inspect the data\n",
        "print('Train labels y_train[:5]',y_train[:5])\n",
        "print('Test labels y_train[:5]',y_test[:5])\n",
        "\n",
        "print('Shape of x_train',x_train.shape)\n",
        "print('Shape of y_train',y_train.shape)"
      ],
      "metadata": {
        "id": "YLpfApeX2Pqs"
      },
      "execution_count": null,
      "outputs": []
    },
    {
      "cell_type": "markdown",
      "source": [
        "## Visualize"
      ],
      "metadata": {
        "id": "jPu1RGXE2dVT"
      }
    },
    {
      "cell_type": "code",
      "source": [
        "import matplotlib.pyplot as plt\n",
        "plt.title('x_train[0] - label = ' + str(y_train[0]))\n",
        "plt.imshow(x_train[0],cmap='gray')"
      ],
      "metadata": {
        "id": "liz4lttf3OJp",
        "colab": {
          "base_uri": "https://localhost:8080/",
          "height": 470
        },
        "outputId": "5b8eb4f2-51b0-49e5-8849-65f992114aff"
      },
      "execution_count": 10,
      "outputs": [
        {
          "output_type": "execute_result",
          "data": {
            "text/plain": [
              "<matplotlib.image.AxesImage at 0x7d8eddf18850>"
            ]
          },
          "metadata": {},
          "execution_count": 10
        },
        {
          "output_type": "display_data",
          "data": {
            "text/plain": [
              "<Figure size 640x480 with 1 Axes>"
            ],
            "image/png": "[encoded data removed]"
          },
          "metadata": {}
        }
      ]
    },
    {
      "cell_type": "markdown",
      "source": [
        "# Preprocess the dataset"
      ],
      "metadata": {
        "id": "ywDCe1nZ3OPI"
      }
    },
    {
      "cell_type": "markdown",
      "source": [
        "## Normalize the pixel value in training and test data\n",
        "\n",
        "The MNIST dataset consists of grayscale images where each pixel's value ranges from 0 to 255, with 0 being completely black and 255 being completely white. Normalizing the pixel values by dividing them by 255.0 scales all the pixel values to the range of 0 to 1. This is important for several reasons:\n",
        "\n",
        "* Numerical Stability: Machine learning models, particularly deep neural networks, tend to perform better when input features are within a similar numerical range. Normalizing helps in achieving numerical stability during training.\n",
        "\n",
        "* Faster Convergence: Normalized inputs can lead to faster convergence during the training of neural networks. It can help in gradient descent-based optimization algorithms to find the optimal weights and biases more efficiently.\n",
        "\n",
        "* Regularization: Normalization can act as a form of regularization, making the model less prone to overfitting by preventing large input values from dominating the learning process.\n",
        "\n",
        "* Compatibility with Activation Functions: Some activation functions (like the sigmoid and tanh functions) perform better when inputs are within a specific range, typically -1 to 1. Normalization helps to bring the data within these ranges."
      ],
      "metadata": {
        "id": "wnp0T9gG3d8P"
      }
    },
    {
      "cell_type": "code",
      "source": [
        "x_train=x_train/255.0\n",
        "x_test=x_test/255.0"
      ],
      "metadata": {
        "id": "aM4JFIMn7rqm"
      },
      "execution_count": 11,
      "outputs": []
    },
    {
      "cell_type": "code",
      "source": [
        "# plot and inspect a sample image from training data after normalization\n",
        "plt.title('x_train[0] - label = ' + str(y_train[0]))\n",
        "plt.imshow(x_train[0],cmap='gray')"
      ],
      "metadata": {
        "id": "7qaAVxpv8Arc",
        "colab": {
          "base_uri": "https://localhost:8080/",
          "height": 470
        },
        "outputId": "a7a18c5a-99da-489d-b4af-33e6ae5a4c89"
      },
      "execution_count": 12,
      "outputs": [
        {
          "output_type": "execute_result",
          "data": {
            "text/plain": [
              "<matplotlib.image.AxesImage at 0x7d8ede028a60>"
            ]
          },
          "metadata": {},
          "execution_count": 12
        },
        {
          "output_type": "display_data",
          "data": {
            "text/plain": [
              "<Figure size 640x480 with 1 Axes>"
            ],
            "image/png": "[encoded data removed]"
          },
          "metadata": {}
        }
      ]
    },
    {
      "cell_type": "code",
      "source": [
        "# plplot and inspect a sample image from test data after normalization\n",
        "plt.title('x_test[0] - label = ' + str(y_test[0]))\n",
        "plt.imshow(x_test[0],cmap='gray')"
      ],
      "metadata": {
        "id": "yZQeTXJ69LD_",
        "colab": {
          "base_uri": "https://localhost:8080/",
          "height": 470
        },
        "outputId": "8ef719c6-ad6c-4db9-b7bc-b97729cc301b"
      },
      "execution_count": 15,
      "outputs": [
        {
          "output_type": "execute_result",
          "data": {
            "text/plain": [
              "<matplotlib.image.AxesImage at 0x7d8eddab5930>"
            ]
          },
          "metadata": {},
          "execution_count": 15
        },
        {
          "output_type": "display_data",
          "data": {
            "text/plain": [
              "<Figure size 640x480 with 1 Axes>"
            ],
            "image/png": "[encoded data removed]"
          },
          "metadata": {}
        }
      ]
    },
    {
      "cell_type": "markdown",
      "source": [
        "# Create an ANN Model"
      ],
      "metadata": {
        "id": "_1U1rsV645OJ"
      }
    },
    {
      "cell_type": "code",
      "source": [
        "# Import the necessary classes from keras\n",
        "from tensorflow.keras.models import Sequential\n",
        "from tensorflow.keras.layers import Dense\n",
        "from tensorflow.keras.layers import Flatten"
      ],
      "metadata": {
        "id": "WJc2Llmf9ySN"
      },
      "execution_count": 16,
      "outputs": []
    },
    {
      "cell_type": "code",
      "source": [
        "# define the model\n",
        "model=Sequential()\n",
        "model.add(Flatten(input_shape=(28,28)))\n",
        "model.add(Dense(128,activation='sigmoid',name='dense-128-relu'))\n",
        "model.add(Dense(10,activation='softmax',name='dense-10-softmax'))"
      ],
      "metadata": {
        "id": "XhZTxEsy-Rv-"
      },
      "execution_count": 17,
      "outputs": []
    },
    {
      "cell_type": "code",
      "source": [
        "# print model summary\n",
        "model.summary()"
      ],
      "metadata": {
        "id": "lUci999EAa0e",
        "colab": {
          "base_uri": "https://localhost:8080/"
        },
        "outputId": "09588bfc-adb9-4f1a-d3c9-480adf5fdd79"
      },
      "execution_count": 18,
      "outputs": [
        {
          "output_type": "stream",
          "name": "stdout",
          "text": [
            "Model: \"sequential\"\n",
            "_________________________________________________________________\n",
            " Layer (type)                Output Shape              Param #   \n",
            "=================================================================\n",
            " flatten (Flatten)           (None, 784)               0         \n",
            "                                                                 \n",
            " dense-128-relu (Dense)      (None, 128)               100480    \n",
            "                                                                 \n",
            " dense-10-softmax (Dense)    (None, 10)                1290      \n",
            "                                                                 \n",
            "=================================================================\n",
            "Total params: 101770 (397.54 KB)\n",
            "Trainable params: 101770 (397.54 KB)\n",
            "Non-trainable params: 0 (0.00 Byte)\n",
            "_________________________________________________________________\n"
          ]
        }
      ]
    },
    {
      "cell_type": "code",
      "source": [
        "# compile the model\n",
        "model.compile(loss='sparse_categorical_crossentropy',optimizer='adam',metrics=['accuracy'])"
      ],
      "metadata": {
        "id": "sOUf63qkCTyn"
      },
      "execution_count": 19,
      "outputs": []
    },
    {
      "cell_type": "code",
      "source": [
        "# define batch size and epochs\n",
        "batch_size=128\n",
        "epochs=10"
      ],
      "metadata": {
        "id": "PAa2bK1KA71r"
      },
      "execution_count": 20,
      "outputs": []
    },
    {
      "cell_type": "code",
      "source": [
        "history=model.fit(x_train,y_train,\n",
        "          batch_size=batch_size,\n",
        "          epochs=epochs,\n",
        "          validation_data=(x_test,y_test))"
      ],
      "metadata": {
        "id": "KKQNEVGBB2T5",
        "colab": {
          "base_uri": "https://localhost:8080/"
        },
        "outputId": "78fea2ba-0796-4170-d9cf-6f42e748a242"
      },
      "execution_count": 21,
      "outputs": [
        {
          "output_type": "stream",
          "name": "stdout",
          "text": [
            "Epoch 1/10\n",
            "469/469 [==============================] - 3s 5ms/step - loss: 0.5846 - accuracy: 0.8621 - val_loss: 0.3078 - val_accuracy: 0.9162\n",
            "Epoch 2/10\n",
            "469/469 [==============================] - 3s 7ms/step - loss: 0.2729 - accuracy: 0.9232 - val_loss: 0.2372 - val_accuracy: 0.9318\n",
            "Epoch 3/10\n",
            "469/469 [==============================] - 2s 5ms/step - loss: 0.2174 - accuracy: 0.9379 - val_loss: 0.1988 - val_accuracy: 0.9405\n",
            "Epoch 4/10\n",
            "469/469 [==============================] - 3s 5ms/step - loss: 0.1821 - accuracy: 0.9479 - val_loss: 0.1729 - val_accuracy: 0.9493\n",
            "Epoch 5/10\n",
            "469/469 [==============================] - 3s 6ms/step - loss: 0.1561 - accuracy: 0.9550 - val_loss: 0.1531 - val_accuracy: 0.9545\n",
            "Epoch 6/10\n",
            "469/469 [==============================] - 3s 5ms/step - loss: 0.1358 - accuracy: 0.9607 - val_loss: 0.1358 - val_accuracy: 0.9600\n",
            "Epoch 7/10\n",
            "469/469 [==============================] - 3s 7ms/step - loss: 0.1196 - accuracy: 0.9657 - val_loss: 0.1234 - val_accuracy: 0.9642\n",
            "Epoch 8/10\n",
            "469/469 [==============================] - 3s 5ms/step - loss: 0.1061 - accuracy: 0.9707 - val_loss: 0.1164 - val_accuracy: 0.9655\n",
            "Epoch 9/10\n",
            "469/469 [==============================] - 2s 4ms/step - loss: 0.0940 - accuracy: 0.9735 - val_loss: 0.1052 - val_accuracy: 0.9684\n",
            "Epoch 10/10\n",
            "469/469 [==============================] - 2s 5ms/step - loss: 0.0840 - accuracy: 0.9767 - val_loss: 0.1007 - val_accuracy: 0.9694\n"
          ]
        }
      ]
    },
    {
      "cell_type": "code",
      "source": [
        "score=model.evaluate(x_train,y_train)"
      ],
      "metadata": {
        "id": "Uvw2uFe_xFIz"
      },
      "execution_count": null,
      "outputs": []
    },
    {
      "cell_type": "code",
      "source": [
        "score=model.evaluate(x_test,y_test)"
      ],
      "metadata": {
        "id": "hVXNF1MPxTt6"
      },
      "execution_count": null,
      "outputs": []
    },
    {
      "cell_type": "code",
      "source": [
        "# plot the accuracy\n",
        "plt.plot(history.history['accuracy'])\n",
        "plt.plot(history.history['val_accuracy'])\n",
        "plt.xlabel('Epochs')\n",
        "plt.ylabel('Accuracry')\n",
        "plt.legend(['train','test'])\n",
        "plt.show"
      ],
      "metadata": {
        "id": "EU4zexE4xcGx"
      },
      "execution_count": null,
      "outputs": []
    },
    {
      "cell_type": "code",
      "source": [
        "# plot the loss\n",
        "plt.plot(history.history['loss'])\n",
        "plt.plot(history.history['val_loss'])\n",
        "plt.xlabel('Epochs')\n",
        "plt.ylabel('Accuracry')\n",
        "plt.legend(['train','test'])\n",
        "plt.show"
      ],
      "metadata": {
        "id": "RMkaFlwTyyO-"
      },
      "execution_count": null,
      "outputs": []
    },
    {
      "cell_type": "code",
      "source": [
        "y_pred=model.predict(x_test)"
      ],
      "metadata": {
        "id": "aheztrhwzFtk"
      },
      "execution_count": null,
      "outputs": []
    },
    {
      "cell_type": "code",
      "source": [
        "y_pred.shape"
      ],
      "metadata": {
        "id": "eMfHi7yezb96"
      },
      "execution_count": null,
      "outputs": []
    },
    {
      "cell_type": "code",
      "source": [
        "import numpy as np"
      ],
      "metadata": {
        "id": "ovwtdMsTzNRT"
      },
      "execution_count": null,
      "outputs": []
    },
    {
      "cell_type": "code",
      "source": [
        "y_pred=np.argmax(y_pred,axis=1)"
      ],
      "metadata": {
        "id": "YWAAUBD8zSWJ"
      },
      "execution_count": null,
      "outputs": []
    },
    {
      "cell_type": "code",
      "source": [
        "y_pred.shape"
      ],
      "metadata": {
        "id": "Fb2oL6VGztLa"
      },
      "execution_count": null,
      "outputs": []
    },
    {
      "cell_type": "code",
      "source": [
        "(train_input,train_label),(test_input,test_label)=mnist.load_data()"
      ],
      "metadata": {
        "id": "rfRnCC_Iz0H3"
      },
      "execution_count": null,
      "outputs": []
    },
    {
      "cell_type": "code",
      "source": [
        "test_label.shape"
      ],
      "metadata": {
        "id": "zDc1c_B10CQ1"
      },
      "execution_count": null,
      "outputs": []
    },
    {
      "cell_type": "code",
      "source": [
        "print('y_pred',y_pred[:5])\n",
        "print('test_label',test_label[:5])\n"
      ],
      "metadata": {
        "id": "68-PDEaC0G84"
      },
      "execution_count": null,
      "outputs": []
    },
    {
      "cell_type": "code",
      "source": [
        "from sklearn.metrics import confusion_matrix\n",
        "matrix=confusion_matrix(test_label ,y_pred)\n",
        "print(matrix)"
      ],
      "metadata": {
        "id": "6fwJvhMM0cJt"
      },
      "execution_count": null,
      "outputs": []
    },
    {
      "cell_type": "code",
      "source": [
        "import seaborn as sns\n",
        "plt.figure(figsize=(10,7))\n",
        "sns.heatmap(matrix,annot=True,fmt='d')"
      ],
      "metadata": {
        "id": "LWjm9Mn103PD"
      },
      "execution_count": null,
      "outputs": []
    },
    {
      "cell_type": "code",
      "source": [
        "# save model\n",
        "#model.save(\"ANN_Handwritten_model.h5\")"
      ],
      "metadata": {
        "id": "oJlwDaNN1isK"
      },
      "execution_count": null,
      "outputs": []
    }
  ]
}