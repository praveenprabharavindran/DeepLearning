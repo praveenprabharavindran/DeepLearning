{
  "nbformat": 4,
  "nbformat_minor": 0,
  "metadata": {
    "colab": {
      "provenance": [],
      "toc_visible": true,
      "authorship_tag": "ABX9TyOsBkvckzqOcdnBqMIfco3j",
      "include_colab_link": true
    },
    "kernelspec": {
      "name": "python3",
      "display_name": "Python 3"
    },
    "language_info": {
      "name": "python"
    }
  },
  "cells": [
    {
      "cell_type": "markdown",
      "metadata": {
        "id": "view-in-github",
        "colab_type": "text"
      },
      "source": [
        "<a href=\"https://colab.research.google.com/github/praveenprabharavindran/MachineLearning/blob/main/ANN_Handwritten_Digits/ANN_Handwritten_Digits.ipynb\" target=\"_parent\"><img src=\"https://colab.research.google.com/assets/colab-badge.svg\" alt=\"Open In Colab\"/></a>"
      ]
    },
    {
      "cell_type": "markdown",
      "source": [
        "# 1. Load the dataset"
      ],
      "metadata": {
        "id": "IrWn2k662YQ8"
      }
    },
    {
      "cell_type": "markdown",
      "source": [
        "## Import the mnist dataset"
      ],
      "metadata": {
        "id": "Gd50ZnnC1-Y8"
      }
    },
    {
      "cell_type": "code",
      "execution_count": 1,
      "metadata": {
        "id": "bem42ymn1sti"
      },
      "outputs": [],
      "source": [
        "# Import the mnist dataset\n",
        "from tensorflow.keras.datasets import mnist"
      ]
    },
    {
      "cell_type": "markdown",
      "source": [
        "## Split into Train and Test"
      ],
      "metadata": {
        "id": "2LUysXmF2FPl"
      }
    },
    {
      "cell_type": "code",
      "source": [
        "# Split into Train and test\n",
        "(x_train,y_train),(x_test,y_test)=mnist.load_data()"
      ],
      "metadata": {
        "id": "jcY5wrGd2C8M",
        "colab": {
          "base_uri": "https://localhost:8080/"
        },
        "outputId": "12639c97-4d10-41fd-d4f3-5596e29ea77d"
      },
      "execution_count": 2,
      "outputs": [
        {
          "output_type": "stream",
          "name": "stdout",
          "text": [
            "Downloading data from https://storage.googleapis.com/tensorflow/tf-keras-datasets/mnist.npz\n",
            "11490434/11490434 [==============================] - 0s 0us/step\n"
          ]
        }
      ]
    },
    {
      "cell_type": "markdown",
      "source": [
        "## Inspect the data"
      ],
      "metadata": {
        "id": "tmqEIY812Nb1"
      }
    },
    {
      "cell_type": "code",
      "source": [
        "# Inspect the data\n",
        "print('Train labels y_train[:5]',y_train[:5])\n",
        "print('Test labels y_train[:5]',y_test[:5])\n",
        "\n",
        "print('Shape of x_train',x_train.shape)\n",
        "print('Shape of y_train',y_train.shape)"
      ],
      "metadata": {
        "colab": {
          "base_uri": "https://localhost:8080/"
        },
        "id": "YLpfApeX2Pqs",
        "outputId": "6c780058-4dd8-4a1e-a752-860584d9c3be"
      },
      "execution_count": 3,
      "outputs": [
        {
          "output_type": "stream",
          "name": "stdout",
          "text": [
            "Train labels y_train[:5] [5 0 4 1 9]\n",
            "Test labels y_train[:5] [7 2 1 0 4]\n",
            "Shape of x_train (60000, 28, 28)\n",
            "Shape of y_train (60000,)\n"
          ]
        }
      ]
    },
    {
      "cell_type": "markdown",
      "source": [
        "## Visualize the data"
      ],
      "metadata": {
        "id": "jPu1RGXE2dVT"
      }
    },
    {
      "cell_type": "code",
      "source": [
        "import matplotlib.pyplot as plt\n",
        "plt.title('x_train[0] - label = ' + str(y_train[0]))\n",
        "plt.imshow(x_train[0],cmap='gray')"
      ],
      "metadata": {
        "id": "liz4lttf3OJp",
        "colab": {
          "base_uri": "https://localhost:8080/",
          "height": 470
        },
        "outputId": "1e554201-4e5f-4d19-a811-c1c24e8c3da6"
      },
      "execution_count": 4,
      "outputs": [
        {
          "output_type": "execute_result",
          "data": {
            "text/plain": [
              "<matplotlib.image.AxesImage at 0x7ac693f66ad0>"
            ]
          },
          "metadata": {},
          "execution_count": 4
        },
        {
          "output_type": "display_data",
          "data": {
            "text/plain": [
              "<Figure size 640x480 with 1 Axes>"
            ],
            "image/png": "[encoded data removed]"
          },
          "metadata": {}
        }
      ]
    },
    {
      "cell_type": "markdown",
      "source": [
        "# 2. Preprocess the dataset"
      ],
      "metadata": {
        "id": "ywDCe1nZ3OPI"
      }
    },
    {
      "cell_type": "markdown",
      "source": [
        "## Normalize the pixel value in training and test data\n",
        "\n",
        "The MNIST dataset consists of grayscale images where each pixel's value ranges from 0 to 255, with 0 being completely black and 255 being completely white. Normalizing the pixel values by dividing them by 255.0 scales all the pixel values to the range of 0 to 1. This is important for several reasons:\n",
        "\n",
        "* Numerical Stability: Machine learning models, particularly deep neural networks, tend to perform better when input features are within a similar numerical range. Normalizing helps in achieving numerical stability during training.\n",
        "\n",
        "* Faster Convergence: Normalized inputs can lead to faster convergence during the training of neural networks. It can help in gradient descent-based optimization algorithms to find the optimal weights and biases more efficiently.\n",
        "\n",
        "* Regularization: Normalization can act as a form of regularization, making the model less prone to overfitting by preventing large input values from dominating the learning process.\n",
        "\n",
        "* Compatibility with Activation Functions: Some activation functions (like the sigmoid and tanh functions) perform better when inputs are within a specific range, typically -1 to 1. Normalization helps to bring the data within these ranges."
      ],
      "metadata": {
        "id": "wnp0T9gG3d8P"
      }
    },
    {
      "cell_type": "code",
      "source": [
        "x_train=x_train/255.0\n",
        "x_test=x_test/255.0"
      ],
      "metadata": {
        "id": "aM4JFIMn7rqm"
      },
      "execution_count": 5,
      "outputs": []
    },
    {
      "cell_type": "code",
      "source": [
        "# plot and inspect a sample image from training data after normalization\n",
        "plt.title('x_train[0] - label = ' + str(y_train[0]))\n",
        "plt.imshow(x_train[0],cmap='gray')"
      ],
      "metadata": {
        "id": "7qaAVxpv8Arc",
        "colab": {
          "base_uri": "https://localhost:8080/",
          "height": 470
        },
        "outputId": "986ce20c-e7c4-4983-a0bf-5197f806444e"
      },
      "execution_count": 6,
      "outputs": [
        {
          "output_type": "execute_result",
          "data": {
            "text/plain": [
              "<matplotlib.image.AxesImage at 0x7ac68ea89780>"
            ]
          },
          "metadata": {},
          "execution_count": 6
        },
        {
          "output_type": "display_data",
          "data": {
            "text/plain": [
              "<Figure size 640x480 with 1 Axes>"
            ],
            "image/png": "[encoded data removed]"
          },
          "metadata": {}
        }
      ]
    },
    {
      "cell_type": "code",
      "source": [
        "# plplot and inspect a sample image from test data after normalization\n",
        "plt.title('x_test[0] - label = ' + str(y_test[0]))\n",
        "plt.imshow(x_test[0],cmap='gray')"
      ],
      "metadata": {
        "id": "yZQeTXJ69LD_",
        "colab": {
          "base_uri": "https://localhost:8080/",
          "height": 470
        },
        "outputId": "373cafe9-fc92-491b-e3e5-f437643ca20d"
      },
      "execution_count": 7,
      "outputs": [
        {
          "output_type": "execute_result",
          "data": {
            "text/plain": [
              "<matplotlib.image.AxesImage at 0x7ac693e76890>"
            ]
          },
          "metadata": {},
          "execution_count": 7
        },
        {
          "output_type": "display_data",
          "data": {
            "text/plain": [
              "<Figure size 640x480 with 1 Axes>"
            ],
            "image/png": "[encoded data removed]"
          },
          "metadata": {}
        }
      ]
    },
    {
      "cell_type": "markdown",
      "source": [
        "# 3. Create an Artificial Neural Network(ANN) using Keras & tensorflow"
      ],
      "metadata": {
        "id": "_1U1rsV645OJ"
      }
    },
    {
      "cell_type": "code",
      "source": [
        "# Import the necessary classes from keras\n",
        "from tensorflow.keras.models import Sequential\n",
        "from tensorflow.keras.layers import Dense\n",
        "from tensorflow.keras.layers import Flatten"
      ],
      "metadata": {
        "id": "WJc2Llmf9ySN"
      },
      "execution_count": 8,
      "outputs": []
    },
    {
      "cell_type": "markdown",
      "source": [
        "## Create Architecture"
      ],
      "metadata": {
        "id": "AGf2W9FOtZWj"
      }
    },
    {
      "cell_type": "code",
      "source": [
        "# define the model\n",
        "model=Sequential()\n",
        "model.add(Flatten(input_shape=(28,28)))\n",
        "model.add(Dense(128,activation='sigmoid',name='dense-128-relu'))\n",
        "model.add(Dense(10,activation='softmax',name='dense-10-softmax'))\n",
        "\n",
        "# print model summary\n",
        "model.summary()"
      ],
      "metadata": {
        "id": "XhZTxEsy-Rv-",
        "colab": {
          "base_uri": "https://localhost:8080/"
        },
        "outputId": "c0d7672f-ac91-45a7-95ba-452e846b8823"
      },
      "execution_count": 9,
      "outputs": [
        {
          "output_type": "stream",
          "name": "stdout",
          "text": [
            "Model: \"sequential\"\n",
            "_________________________________________________________________\n",
            " Layer (type)                Output Shape              Param #   \n",
            "=================================================================\n",
            " flatten (Flatten)           (None, 784)               0         \n",
            "                                                                 \n",
            " dense-128-relu (Dense)      (None, 128)               100480    \n",
            "                                                                 \n",
            " dense-10-softmax (Dense)    (None, 10)                1290      \n",
            "                                                                 \n",
            "=================================================================\n",
            "Total params: 101770 (397.54 KB)\n",
            "Trainable params: 101770 (397.54 KB)\n",
            "Non-trainable params: 0 (0.00 Byte)\n",
            "_________________________________________________________________\n"
          ]
        }
      ]
    },
    {
      "cell_type": "markdown",
      "source": [
        "## Compile the model"
      ],
      "metadata": {
        "id": "Y-ZpRqNatmxq"
      }
    },
    {
      "cell_type": "code",
      "source": [
        "# compile the model\n",
        "model.compile(loss='sparse_categorical_crossentropy',optimizer='adam',metrics=['accuracy'])"
      ],
      "metadata": {
        "id": "sOUf63qkCTyn"
      },
      "execution_count": 10,
      "outputs": []
    },
    {
      "cell_type": "code",
      "source": [
        "# define batch size and epochs\n",
        "batch_size=128\n",
        "epochs=10"
      ],
      "metadata": {
        "id": "PAa2bK1KA71r"
      },
      "execution_count": 11,
      "outputs": []
    },
    {
      "cell_type": "markdown",
      "source": [
        "## Fit/train the model"
      ],
      "metadata": {
        "id": "hXxUa3a9ts4S"
      }
    },
    {
      "cell_type": "code",
      "source": [
        "history=model.fit(x_train,y_train,\n",
        "          batch_size=batch_size,\n",
        "          epochs=epochs,\n",
        "          validation_data=(x_test,y_test))"
      ],
      "metadata": {
        "id": "KKQNEVGBB2T5",
        "colab": {
          "base_uri": "https://localhost:8080/"
        },
        "outputId": "3016ec08-4320-41c8-ac03-c6ae8fb0388e"
      },
      "execution_count": 12,
      "outputs": [
        {
          "output_type": "stream",
          "name": "stdout",
          "text": [
            "Epoch 1/10\n",
            "469/469 [==============================] - 8s 11ms/step - loss: 0.6154 - accuracy: 0.8505 - val_loss: 0.3184 - val_accuracy: 0.9123\n",
            "Epoch 2/10\n",
            "469/469 [==============================] - 5s 11ms/step - loss: 0.2789 - accuracy: 0.9218 - val_loss: 0.2416 - val_accuracy: 0.9306\n",
            "Epoch 3/10\n",
            "469/469 [==============================] - 5s 10ms/step - loss: 0.2222 - accuracy: 0.9371 - val_loss: 0.2015 - val_accuracy: 0.9418\n",
            "Epoch 4/10\n",
            "469/469 [==============================] - 3s 7ms/step - loss: 0.1854 - accuracy: 0.9474 - val_loss: 0.1751 - val_accuracy: 0.9489\n",
            "Epoch 5/10\n",
            "469/469 [==============================] - 3s 6ms/step - loss: 0.1589 - accuracy: 0.9548 - val_loss: 0.1533 - val_accuracy: 0.9532\n",
            "Epoch 6/10\n",
            "469/469 [==============================] - 3s 7ms/step - loss: 0.1376 - accuracy: 0.9612 - val_loss: 0.1351 - val_accuracy: 0.9595\n",
            "Epoch 7/10\n",
            "469/469 [==============================] - 3s 6ms/step - loss: 0.1211 - accuracy: 0.9655 - val_loss: 0.1262 - val_accuracy: 0.9621\n",
            "Epoch 8/10\n",
            "469/469 [==============================] - 3s 7ms/step - loss: 0.1067 - accuracy: 0.9701 - val_loss: 0.1165 - val_accuracy: 0.9656\n",
            "Epoch 9/10\n",
            "469/469 [==============================] - 3s 6ms/step - loss: 0.0953 - accuracy: 0.9736 - val_loss: 0.1081 - val_accuracy: 0.9681\n",
            "Epoch 10/10\n",
            "469/469 [==============================] - 4s 8ms/step - loss: 0.0855 - accuracy: 0.9763 - val_loss: 0.1016 - val_accuracy: 0.9700\n"
          ]
        }
      ]
    },
    {
      "cell_type": "markdown",
      "source": [
        "# Evaluate the results"
      ],
      "metadata": {
        "id": "18bdyiKEt-Ii"
      }
    },
    {
      "cell_type": "markdown",
      "source": [
        "## Evaluate the model on test data\n",
        "* evaluate the model on test data\n",
        "* observe the model loss an accuracy"
      ],
      "metadata": {
        "id": "MCEWz7zb1Ca2"
      }
    },
    {
      "cell_type": "code",
      "source": [
        "# See Test score\n",
        "print('Test score:')\n",
        "test_score=model.evaluate(x_test,y_test)\n",
        "print('Test loss:' +str(test_score[0]) + '; Test accuracy: ' + str(test_score[1]) )"
      ],
      "metadata": {
        "id": "Crmz7TCz0sD5",
        "outputId": "8962c756-8480-4b9f-fe3e-1826df2b6b6a",
        "colab": {
          "base_uri": "https://localhost:8080/"
        }
      },
      "execution_count": 40,
      "outputs": [
        {
          "output_type": "stream",
          "name": "stdout",
          "text": [
            "Test score:\n",
            "313/313 [==============================] - 1s 3ms/step - loss: 0.1016 - accuracy: 0.9700\n",
            "Test loss:0.10158491879701614; Test accuracy: 0.9700000286102295\n"
          ]
        }
      ]
    },
    {
      "cell_type": "markdown",
      "source": [
        "## Evaluate the model on training data\n",
        " * See how well the model has learned the training data"
      ],
      "metadata": {
        "id": "FXEJlcU81OB9"
      }
    },
    {
      "cell_type": "code",
      "source": [
        "# See Training score\n",
        "print('Training score:')\n",
        "train_score=model.evaluate(x_train,y_train)\n",
        "print('Training loss:' +str(train_score[0]) + '; Training accuracy: ' + str(train_score[1]) )\n"
      ],
      "metadata": {
        "id": "Uvw2uFe_xFIz",
        "colab": {
          "base_uri": "https://localhost:8080/"
        },
        "outputId": "1f75eff9-d3eb-4e30-ef64-0fdfd9771370"
      },
      "execution_count": 41,
      "outputs": [
        {
          "output_type": "stream",
          "name": "stdout",
          "text": [
            "Training score:\n",
            "1875/1875 [==============================] - 6s 3ms/step - loss: 0.0769 - accuracy: 0.9796\n",
            "Training loss:0.07687412947416306; Training accuracy: 0.9795833230018616\n"
          ]
        }
      ]
    },
    {
      "cell_type": "markdown",
      "source": [
        "## Plot the accuracy of the model on training vs test data"
      ],
      "metadata": {
        "id": "xxvLlah32DS7"
      }
    },
    {
      "cell_type": "code",
      "source": [
        "# plot the accuracy\n",
        "plt.plot(history.history['accuracy'])\n",
        "plt.plot(history.history['val_accuracy'])\n",
        "plt.xlabel('Epochs')\n",
        "plt.ylabel('Accuracry')\n",
        "plt.legend(['train','test'])\n",
        "plt.show"
      ],
      "metadata": {
        "id": "EU4zexE4xcGx",
        "colab": {
          "base_uri": "https://localhost:8080/",
          "height": 467
        },
        "outputId": "37282f9b-721c-4701-f97d-ab0e263f3a91"
      },
      "execution_count": 15,
      "outputs": [
        {
          "output_type": "execute_result",
          "data": {
            "text/plain": [
              "<function matplotlib.pyplot.show(close=None, block=None)>"
            ]
          },
          "metadata": {},
          "execution_count": 15
        },
        {
          "output_type": "display_data",
          "data": {
            "text/plain": [
              "<Figure size 640x480 with 1 Axes>"
            ],
            "image/png": "[encoded data removed]"
          },
          "metadata": {}
        }
      ]
    },
    {
      "cell_type": "markdown",
      "source": [
        "## Plot the loss of the model on training vs test data"
      ],
      "metadata": {
        "id": "fcoTo_dz2QQG"
      }
    },
    {
      "cell_type": "code",
      "source": [
        "# plot the loss\n",
        "plt.plot(history.history['loss'])\n",
        "plt.plot(history.history['val_loss'])\n",
        "plt.xlabel('Epochs')\n",
        "plt.ylabel('Accuracry')\n",
        "plt.legend(['train','test'])\n",
        "plt.show"
      ],
      "metadata": {
        "id": "RMkaFlwTyyO-",
        "colab": {
          "base_uri": "https://localhost:8080/",
          "height": 467
        },
        "outputId": "2d077387-91ab-4621-fbb7-aaa8384ce340"
      },
      "execution_count": 16,
      "outputs": [
        {
          "output_type": "execute_result",
          "data": {
            "text/plain": [
              "<function matplotlib.pyplot.show(close=None, block=None)>"
            ]
          },
          "metadata": {},
          "execution_count": 16
        },
        {
          "output_type": "display_data",
          "data": {
            "text/plain": [
              "<Figure size 640x480 with 1 Axes>"
            ],
            "image/png": "[encoded data removed]"
          },
          "metadata": {}
        }
      ]
    },
    {
      "cell_type": "markdown",
      "source": [
        "# Use the model to predict/classify the test input data"
      ],
      "metadata": {
        "id": "FhEUmPuw2WqL"
      }
    },
    {
      "cell_type": "code",
      "source": [
        "# classify test input\n",
        "y_pred=model.predict(x_test)"
      ],
      "metadata": {
        "id": "aheztrhwzFtk",
        "colab": {
          "base_uri": "https://localhost:8080/"
        },
        "outputId": "06999724-2e5e-4ca7-fe62-ee676e5cbe31"
      },
      "execution_count": 59,
      "outputs": [
        {
          "output_type": "stream",
          "name": "stdout",
          "text": [
            "313/313 [==============================] - 1s 2ms/step\n"
          ]
        }
      ]
    },
    {
      "cell_type": "code",
      "source": [
        "y_pred.shape\n",
        "y_pred[0]"
      ],
      "metadata": {
        "id": "gh6ATVzo3V-n",
        "outputId": "1778f559-d9d0-474c-8c66-60cd61d32c72",
        "colab": {
          "base_uri": "https://localhost:8080/"
        }
      },
      "execution_count": 60,
      "outputs": [
        {
          "output_type": "execute_result",
          "data": {
            "text/plain": [
              "array([1.5034605e-05, 7.0375683e-07, 7.8277022e-05, 1.4421829e-03,\n",
              "       2.7538181e-07, 1.3684407e-04, 4.1788049e-09, 9.9821532e-01,\n",
              "       1.1376229e-05, 9.9918005e-05], dtype=float32)"
            ]
          },
          "metadata": {},
          "execution_count": 60
        }
      ]
    },
    {
      "cell_type": "markdown",
      "source": [],
      "metadata": {
        "id": "-SBCgky_2ZQL"
      }
    },
    {
      "cell_type": "code",
      "source": [
        "import numpy as np"
      ],
      "metadata": {
        "id": "ovwtdMsTzNRT"
      },
      "execution_count": 61,
      "outputs": []
    },
    {
      "cell_type": "code",
      "source": [
        "y_pred=np.argmax(y_pred,axis=1)"
      ],
      "metadata": {
        "id": "YWAAUBD8zSWJ"
      },
      "execution_count": 62,
      "outputs": []
    },
    {
      "cell_type": "code",
      "source": [
        "y_pred[:5]"
      ],
      "metadata": {
        "id": "Fb2oL6VGztLa",
        "colab": {
          "base_uri": "https://localhost:8080/"
        },
        "outputId": "6da4cba1-b98c-40de-9cf8-5629d7fc5a23"
      },
      "execution_count": 63,
      "outputs": [
        {
          "output_type": "execute_result",
          "data": {
            "text/plain": [
              "array([7, 2, 1, 0, 4])"
            ]
          },
          "metadata": {},
          "execution_count": 63
        }
      ]
    },
    {
      "cell_type": "code",
      "source": [
        "test_label.shape"
      ],
      "metadata": {
        "id": "zDc1c_B10CQ1",
        "colab": {
          "base_uri": "https://localhost:8080/"
        },
        "outputId": "135e0236-9279-48a8-d58e-09d89d1ed714"
      },
      "execution_count": 47,
      "outputs": [
        {
          "output_type": "execute_result",
          "data": {
            "text/plain": [
              "(10000,)"
            ]
          },
          "metadata": {},
          "execution_count": 47
        }
      ]
    },
    {
      "cell_type": "code",
      "source": [
        "print('y_pred',y_pred[:5])\n",
        "print('test_label',test_label[:5])\n"
      ],
      "metadata": {
        "id": "68-PDEaC0G84",
        "colab": {
          "base_uri": "https://localhost:8080/"
        },
        "outputId": "7247965c-2652-4362-be6d-ea76dcb23bcb"
      },
      "execution_count": 64,
      "outputs": [
        {
          "output_type": "stream",
          "name": "stdout",
          "text": [
            "y_pred [7 2 1 0 4]\n",
            "test_label [7 2 1 0 4]\n"
          ]
        }
      ]
    },
    {
      "cell_type": "code",
      "source": [
        "from sklearn.metrics import confusion_matrix\n",
        "matrix=confusion_matrix(y_test ,y_pred)\n",
        "print(matrix)"
      ],
      "metadata": {
        "id": "6fwJvhMM0cJt",
        "colab": {
          "base_uri": "https://localhost:8080/"
        },
        "outputId": "1292056e-3338-41e3-b81a-9a09667f560c"
      },
      "execution_count": 65,
      "outputs": [
        {
          "output_type": "stream",
          "name": "stdout",
          "text": [
            "[[ 973    0    1    1    0    2    1    1    1    0]\n",
            " [   0 1120    3    1    0    1    4    1    5    0]\n",
            " [   8    1  990    6    5    1    5    8    6    2]\n",
            " [   0    0    3  988    0    4    0    7    3    5]\n",
            " [   1    0    3    1  952    0    7    3    2   13]\n",
            " [   3    1    0   10    1  863    7    2    3    2]\n",
            " [   9    3    2    1    4    7  928    0    4    0]\n",
            " [   2    5   11    6    0    0    0  992    0   12]\n",
            " [   5    2    2   11    6    5    5    6  928    4]\n",
            " [   4    4    1    9   12    5    1    6    1  966]]\n"
          ]
        }
      ]
    },
    {
      "cell_type": "code",
      "source": [
        "import seaborn as sns\n",
        "plt.figure(figsize=(10,7))\n",
        "sns.heatmap(matrix,annot=True,fmt='d')"
      ],
      "metadata": {
        "id": "LWjm9Mn103PD",
        "colab": {
          "base_uri": "https://localhost:8080/",
          "height": 617
        },
        "outputId": "ef5b5442-f2c9-43ff-acac-b2598b0e19dd"
      },
      "execution_count": 66,
      "outputs": [
        {
          "output_type": "execute_result",
          "data": {
            "text/plain": [
              "<Axes: >"
            ]
          },
          "metadata": {},
          "execution_count": 66
        },
        {
          "output_type": "display_data",
          "data": {
            "text/plain": [
              "<Figure size 1000x700 with 2 Axes>"
            ],
            "image/png": "[encoded data removed]"
          },
          "metadata": {}
        }
      ]
    },
    {
      "cell_type": "code",
      "source": [
        "# save model\n",
        "#model.save(\"ANN_Handwritten_model.h5\")"
      ],
      "metadata": {
        "id": "oJlwDaNN1isK"
      },
      "execution_count": 27,
      "outputs": []
    }
  ]
}