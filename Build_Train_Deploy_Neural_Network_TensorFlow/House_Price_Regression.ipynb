{
  "nbformat": 4,
  "nbformat_minor": 0,
  "metadata": {
    "colab": {
      "private_outputs": true,
      "provenance": [],
      "gpuType": "T4",
      "authorship_tag": "ABX9TyMsN9gNvQWafsQP6M4xv+RZ",
      "include_colab_link": true
    },
    "kernelspec": {
      "name": "python3",
      "display_name": "Python 3"
    },
    "language_info": {
      "name": "python"
    },
    "accelerator": "GPU",
    "gpuClass": "standard"
  },
  "cells": [
    {
      "cell_type": "markdown",
      "metadata": {
        "id": "view-in-github",
        "colab_type": "text"
      },
      "source": [
        "<a href=\"https://colab.research.google.com/github/praveenprabharavindran/MachineLearning/blob/main/Build_Train_Deploy_Neural_Network_TensorFlow/House_Price_Regression.ipynb\" target=\"_parent\"><img src=\"https://colab.research.google.com/assets/colab-badge.svg\" alt=\"Open In Colab\"/></a>"
      ]
    },
    {
      "cell_type": "markdown",
      "source": [
        "# Import libraries\n",
        "* Numpy is a powerful n-dimensional array library that allows to easily create and manipulate arrays of data\n",
        "* Numpy can convert TensofFlow's native data structures, to Python native data types\n",
        "* Matplotlib is a graphics plot library"
      ],
      "metadata": {
        "id": "mpW9ctoQ2rtf"
      }
    },
    {
      "cell_type": "code",
      "execution_count": null,
      "metadata": {
        "id": "eBINsiepzsra"
      },
      "outputs": [],
      "source": [
        "import tensorflow as tf\n",
        "import numpy as np\n",
        "import matplotlib.pyplot as plt\n",
        "print(tf.__version__)"
      ]
    },
    {
      "cell_type": "markdown",
      "source": [
        "# Problem statement\n",
        " Using example data, develop a model that predicts house prices basecd on the size of a house\n",
        "\n",
        "# Get Data\n",
        " In this example we will be using a truncated vesrion of the Ames dataset that only contains information on homes sold in May 2010.\n",
        "\n",
        "## Aboud the Ames Dataset\n",
        " The Ames dataset is a widely available dataset that has become one of thye standard datasets used when predicting home prices based on features of the home. It is based on the great work of Dean De Cock. His rational and insight into this dataset can be found at  https://jse.amstat.org/v19n3/decock.pdf.\n",
        "\n",
        " ## Getting the truncated dataset we use\n",
        " This dataset can eb found with the excercies files for this course. The filename is AmesHousing-05-2010.csv"
      ],
      "metadata": {
        "id": "NLhRF-Xu2-bF"
      }
    }
  ]
}