{
  "nbformat": 4,
  "nbformat_minor": 0,
  "metadata": {
    "colab": {
      "private_outputs": true,
      "provenance": [],
      "gpuType": "T4",
      "authorship_tag": "ABX9TyNY9LL/81FL2xEJl3Y6Csf/",
      "include_colab_link": true
    },
    "kernelspec": {
      "name": "python3",
      "display_name": "Python 3"
    },
    "language_info": {
      "name": "python"
    },
    "accelerator": "GPU",
    "gpuClass": "standard"
  },
  "cells": [
    {
      "cell_type": "markdown",
      "metadata": {
        "id": "view-in-github",
        "colab_type": "text"
      },
      "source": [
        "<a href=\"https://colab.research.google.com/github/praveenprabharavindran/MachineLearning/blob/main/Build_Train_Deploy_Neural_Network_TensorFlow/House_Price_Regression.ipynb\" target=\"_parent\"><img src=\"https://colab.research.google.com/assets/colab-badge.svg\" alt=\"Open In Colab\"/></a>"
      ]
    },
    {
      "cell_type": "markdown",
      "source": [
        "# Import libraries\n",
        "* Numpy is a powerful n-dimensional array library that allows to easily create and manipulate arrays of data\n",
        "* Numpy can convert TensofFlow's native data structures, to Python native data types\n",
        "* Matplotlib is a graphics plot library"
      ],
      "metadata": {
        "id": "mpW9ctoQ2rtf"
      }
    },
    {
      "cell_type": "code",
      "execution_count": null,
      "metadata": {
        "id": "eBINsiepzsra"
      },
      "outputs": [],
      "source": [
        "import tensorflow as tf\n",
        "import numpy as np\n",
        "import matplotlib.pyplot as plt\n",
        "print(tf.__version__)"
      ]
    },
    {
      "cell_type": "markdown",
      "source": [
        "# Problem statement\n",
        " Using example data, develop a model that predicts house prices basecd on the size of a house\n",
        "\n",
        "# Get Data\n",
        " In this example we will be using a truncated vesrion of the Ames dataset that only contains information on homes sold in May 2010.\n",
        "\n",
        "## About the Ames Dataset\n",
        " The Ames dataset is a widely available dataset that has become one of thye standard datasets used when predicting home prices based on features of the home. It is based on the great work of Dean De Cock. His rational and insight into this dataset can be found at  https://jse.amstat.org/v19n3/decock.pdf.\n",
        "\n",
        " ## Getting the truncated dataset we use\n",
        " This dataset can be found with the excercies files for this course. The filename is AmesHousing-05-2010.csv"
      ],
      "metadata": {
        "id": "NLhRF-Xu2-bF"
      }
    },
    {
      "cell_type": "code",
      "source": [
        "from google.colab import files\n",
        "\n",
        "# prompt  user to select a file to upload, and store it to a dictionary named 'uploaded' \n",
        "# 'uploded' is a dictionary with key = filename and value = contents of the file\n",
        "uploaded = files.upload()\n",
        "\n",
        "# 'iter()' function creates and iterator over the dictionary variable 'uploaded'\n",
        "# 'next()' function iterates over the uploaded variable and gets the first file\n",
        "# 'csv_housefile' variable is assigned the name of the file that was uploaded\n",
        "csv_housefile = next(iter(uploaded))\n",
        "\n",
        "\n",
        "print('User uploaded file: {name}, with lenght:{length}'.format(name=csv_housefile, length=len(uploaded[csv_housefile])))"
      ],
      "metadata": {
        "id": "sHgYQqnOye9_"
      },
      "execution_count": null,
      "outputs": []
    },
    {
      "cell_type": "markdown",
      "source": [
        "# Load data into a pandas dataframe\n",
        "* Pandas allows easil review and manipulation the data \n",
        "* Check out pandas webstie: https://pandas.pydata.org/\n",
        "* Here is a [Pandas 10 minute intro](http://pandas.pydata.org/pandas-docs/stable/getting_started/10min.html) to understand how pandas, and pandas dataframes makes working with tabular data in Python easy."
      ],
      "metadata": {
        "id": "NLC4a23kYYg1"
      }
    },
    {
      "cell_type": "code",
      "source": [
        "import pandas as pd\n",
        "df_housing = pd.read_csv(csv_housefile)\n"
      ],
      "metadata": {
        "id": "jnYQcFpXYSf4"
      },
      "execution_count": null,
      "outputs": []
    },
    {
      "cell_type": "markdown",
      "source": [
        "# Visualize House Price Data"
      ],
      "metadata": {
        "id": "6LQJtc_QZH4O"
      }
    },
    {
      "cell_type": "code",
      "source": [
        "pd.set_option('display.max_columns',None)\n",
        "df_housing.head(5)"
      ],
      "metadata": {
        "id": "tujzy3utZOdu"
      },
      "execution_count": null,
      "outputs": []
    },
    {
      "cell_type": "markdown",
      "source": [
        "## Visualize Data using data_table formatter\n",
        "* Using the data_table_formatter displays the table in an interactive mode making it easier to explore and analyze dataframes\n",
        "* However this approach supports only 20 columns beyond which is fallsback to the pandas display."
      ],
      "metadata": {
        "id": "2xR5peVCb-Gx"
      }
    },
    {
      "cell_type": "code",
      "source": [
        "# from google.colab import data_table\n",
        "# data_table.enable_dataframe_formatter()\n",
        "# \n",
        "# columns = df_housing.columns\n",
        "# display(df_housing[columns[:20]])"
      ],
      "metadata": {
        "id": "pL2LMdzKcIOI"
      },
      "execution_count": null,
      "outputs": []
    },
    {
      "cell_type": "markdown",
      "source": [
        "\n",
        "# Pre process data\n",
        "* Among the given parameters (columns), the size of the house has the greatest impact on the cost. \n",
        "* The total square footage of the house is not immediately accessible and requires aggregating several fields together.  \n",
        "\n",
        " **Note**: There are some aggregate fields in the data that could be used to simply calucation:\n",
        "  >Total Bsmt SF = BsmtFin SF 1 + BsmtFin SF 2 + Bsmt Unf SF  \n",
        "  >Gr Liv Area = 1st Flr SF + 2nd Flr SF"
      ],
      "metadata": {
        "id": "FJIfe4DnZwMv"
      }
    }
  ]
}