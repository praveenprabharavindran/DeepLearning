{
  "cells": [
    {
      "cell_type": "code",
      "execution_count": 2,
      "metadata": {
        "colab": {
          "base_uri": "https://localhost:8080/"
        },
        "id": "cM09s2ry-k0j",
        "outputId": "66b7fb8c-daad-47cc-8cb9-32f402ba6a2a"
      },
      "outputs": [
        {
          "name": "stderr",
          "output_type": "stream",
          "text": [
            "'ls' is not recognized as an internal or external command,\n",
            "operable program or batch file.\n"
          ]
        }
      ],
      "source": [
        "!ls -al data*"
      ]
    },
    {
      "cell_type": "code",
      "execution_count": 7,
      "metadata": {
        "id": "YxjrF2Gs_rlc"
      },
      "outputs": [],
      "source": [
        "!unzip -q data.zip -d data\n"
      ]
    },
    {
      "cell_type": "code",
      "execution_count": 3,
      "metadata": {
        "id": "hZg_xD8pAXH5"
      },
      "outputs": [],
      "source": [
        "import matplotlib.pyplot as plt\n",
        "import matplotlib.image as mpimg\n",
        "import math\n",
        "\n",
        "def display_images(file_list, columns=5, figure_size=(12, 12)):\n",
        "    num_images = len(file_list)\n",
        "\n",
        "    # Calculate the number of rows needed to display the images\n",
        "    rows = int(math.ceil(num_images / columns))\n",
        "\n",
        "    # Create a figure with the specified size\n",
        "    plt.figure(figsize=figure_size)\n",
        "\n",
        "    for i, filename in enumerate(file_list):\n",
        "        # Create each subplot and set the size\n",
        "        plt.subplot(rows, columns, i + 1)\n",
        "        plt.title(os.path.basename(filename))\n",
        "        image = mpimg.imread(filename)\n",
        "\n",
        "        # Set the size of the individual subplots\n",
        "        plt.imshow(image)\n",
        "        plt.axis('off')  # Turn off axis labels and ticks\n",
        "\n",
        "    plt.tight_layout()  # Automatically adjust subplot parameters for a better layout\n",
        "    plt.show()"
      ]
    },
    {
      "cell_type": "code",
      "execution_count": 5,
      "metadata": {
        "id": "YuqoGrDXAP0w"
      },
      "outputs": [],
      "source": [
        "import os\n",
        "\n",
        "def list_files_in_directory(directory_path):\n",
        "    full_paths = [os.path.join(directory_path, file) for file in os.listdir(directory_path) if os.path.isfile(os.path.join(directory_path, file))]\n",
        "    return full_paths\n"
      ]
    },
    {
      "cell_type": "code",
      "execution_count": 6,
      "metadata": {
        "id": "gj2tufuAASUi"
      },
      "outputs": [],
      "source": [
        "train_cats_dir = 'data/train/cats'\n",
        "train_dogs_dir = 'data/train/dogs'\n",
        "test_cats_dir = 'data/test/cats'\n",
        "test_dogs_dir= 'data/test/dogs'\n",
        "\n",
        "\n",
        "train_cat_files = list_files_in_directory(train_cats_dir)\n",
        "train_dog_files = list_files_in_directory(train_dogs_dir)\n",
        "test_cat_files = list_files_in_directory(test_cats_dir)\n",
        "test_dog_files = list_files_in_directory(test_dogs_dir)"
      ]
    },
    {
      "cell_type": "code",
      "execution_count": 1,
      "metadata": {
        "colab": {
          "base_uri": "https://localhost:8080/",
          "height": 1000
        },
        "id": "MX1n-n_PAUAI",
        "outputId": "fcd81171-31fa-4ad3-9650-09e6ed9719ca"
      },
      "outputs": [
        {
          "name": "stdout",
          "output_type": "stream",
          "text": [
            "First 25 cat files for training: \n",
            "\n"
          ]
        },
        {
          "ename": "NameError",
          "evalue": "name 'display_images' is not defined",
          "output_type": "error",
          "traceback": [
            "\u001b[1;31m---------------------------------------------------------------------------\u001b[0m",
            "\u001b[1;31mNameError\u001b[0m                                 Traceback (most recent call last)",
            "\u001b[1;32m<ipython-input-1-e3239ea461c5>\u001b[0m in \u001b[0;36m<module>\u001b[1;34m\u001b[0m\n\u001b[0;32m      1\u001b[0m \u001b[0mprint\u001b[0m\u001b[1;33m(\u001b[0m\u001b[1;34m'First 25 cat files for training: \\n'\u001b[0m\u001b[1;33m)\u001b[0m\u001b[1;33m\u001b[0m\u001b[0m\n\u001b[1;32m----> 2\u001b[1;33m \u001b[0mdisplay_images\u001b[0m\u001b[1;33m(\u001b[0m\u001b[0mtrain_cat_files\u001b[0m\u001b[1;33m[\u001b[0m\u001b[1;33m:\u001b[0m\u001b[1;36m25\u001b[0m\u001b[1;33m]\u001b[0m\u001b[1;33m,\u001b[0m\u001b[1;36m5\u001b[0m\u001b[1;33m)\u001b[0m\u001b[1;33m\u001b[0m\u001b[0m\n\u001b[0m\u001b[0;32m      3\u001b[0m \u001b[1;33m\u001b[0m\u001b[0m\n\u001b[0;32m      4\u001b[0m \u001b[0mprint\u001b[0m\u001b[1;33m(\u001b[0m\u001b[1;34m'First 25 dog files for training: \\n'\u001b[0m\u001b[1;33m)\u001b[0m\u001b[1;33m\u001b[0m\u001b[0m\n\u001b[0;32m      5\u001b[0m \u001b[0mdisplay_images\u001b[0m\u001b[1;33m(\u001b[0m\u001b[0mtrain_dog_files\u001b[0m\u001b[1;33m[\u001b[0m\u001b[1;33m:\u001b[0m\u001b[1;36m25\u001b[0m\u001b[1;33m]\u001b[0m\u001b[1;33m,\u001b[0m\u001b[1;36m5\u001b[0m\u001b[1;33m)\u001b[0m\u001b[1;33m\u001b[0m\u001b[0m\n",
            "\u001b[1;31mNameError\u001b[0m: name 'display_images' is not defined"
          ]
        }
      ],
      "source": [
        "print('First 25 cat files for training: \\n')\n",
        "display_images(train_cat_files[:25],5)\n",
        "\n",
        "print('First 25 dog files for training: \\n')\n",
        "display_images(train_dog_files[:25],5)"
      ]
    },
    {
      "cell_type": "code",
      "execution_count": 15,
      "metadata": {
        "colab": {
          "base_uri": "https://localhost:8080/"
        },
        "id": "5mJ4aaoNAgnB",
        "outputId": "5575d709-215b-40db-ca63-303c303fbdf9"
      },
      "outputs": [
        {
          "name": "stdout",
          "output_type": "stream",
          "text": [
            "Found 2000 images belonging to 2 classes.\n",
            "Found 800 images belonging to 2 classes.\n",
            "Downloading data from https://storage.googleapis.com/tensorflow/keras-applications/inception_v3/inception_v3_weights_tf_dim_ordering_tf_kernels_notop.h5\n",
            "87910968/87910968 [==============================] - 3s 0us/step\n",
            "Epoch 1/5\n",
            "63/63 [==============================] - 65s 802ms/step - loss: 0.1603 - accuracy: 0.9470 - val_loss: 0.0309 - val_accuracy: 0.9900\n",
            "Epoch 2/5\n",
            "63/63 [==============================] - 48s 754ms/step - loss: 0.0281 - accuracy: 0.9870 - val_loss: 0.0495 - val_accuracy: 0.9812\n",
            "Epoch 3/5\n",
            "63/63 [==============================] - 47s 746ms/step - loss: 0.0300 - accuracy: 0.9920 - val_loss: 0.0307 - val_accuracy: 0.9887\n",
            "Epoch 4/5\n",
            "63/63 [==============================] - 49s 763ms/step - loss: 0.0193 - accuracy: 0.9945 - val_loss: 0.0941 - val_accuracy: 0.9800\n",
            "Epoch 5/5\n",
            "63/63 [==============================] - 49s 774ms/step - loss: 0.0205 - accuracy: 0.9935 - val_loss: 0.0292 - val_accuracy: 0.9937\n"
          ]
        },
        {
          "data": {
            "text/plain": [
              "<keras.src.callbacks.History at 0x7e149aa48490>"
            ]
          },
          "execution_count": 15,
          "metadata": {},
          "output_type": "execute_result"
        }
      ],
      "source": [
        "import tensorflow as tf\n",
        "from tensorflow.keras.preprocessing.image import ImageDataGenerator\n",
        "from tensorflow.keras.applications import InceptionV3\n",
        "from tensorflow.keras.layers import Dense, GlobalAveragePooling2D\n",
        "from tensorflow.keras.models import Model\n",
        "\n",
        "# Define data directories\n",
        "train_data_dir = 'data/train'\n",
        "test_data_dir = 'data/test'\n",
        "\n",
        "# Set the image size according to InceptionV3's input size\n",
        "img_width, img_height = 299, 299\n",
        "batch_size = 32\n",
        "\n",
        "# Data augmentation for training images\n",
        "train_datagen = ImageDataGenerator(\n",
        "    rescale=1. / 255,\n",
        "    shear_range=0.2,\n",
        "    zoom_range=0.2,\n",
        "    horizontal_flip=True\n",
        ")\n",
        "\n",
        "# Rescale for test images (no augmentation)\n",
        "test_datagen = ImageDataGenerator(rescale=1. / 255)\n",
        "\n",
        "# Load and augment training data\n",
        "train_generator = train_datagen.flow_from_directory(\n",
        "    train_data_dir,\n",
        "    target_size=(img_width, img_height),\n",
        "    batch_size=batch_size,\n",
        "    class_mode='binary'\n",
        ")\n",
        "\n",
        "# Load test data\n",
        "test_generator = test_datagen.flow_from_directory(\n",
        "    test_data_dir,\n",
        "    target_size=(img_width, img_height),\n",
        "    batch_size=batch_size,\n",
        "    class_mode='binary'\n",
        ")\n",
        "\n",
        "# Load the InceptionV3 model pre-trained on ImageNet data\n",
        "base_model = InceptionV3(weights='imagenet', include_top=False)\n",
        "\n",
        "# Add custom layers on top of the pre-trained model for classification\n",
        "x = base_model.output\n",
        "x = GlobalAveragePooling2D()(x)\n",
        "x = Dense(1024, activation='relu')(x)\n",
        "predictions = Dense(1, activation='sigmoid')(x)\n",
        "\n",
        "model = Model(inputs=base_model.input, outputs=predictions)\n",
        "\n",
        "# Freeze all layers in the base model\n",
        "for layer in base_model.layers:\n",
        "    layer.trainable = False\n",
        "\n",
        "# Compile the model\n",
        "model.compile(optimizer='adam', loss='binary_crossentropy', metrics=['accuracy'])\n",
        "\n",
        "# Train the model\n",
        "history=model.fit(train_generator, epochs=5, steps_per_epoch=len(train_generator), validation_data=test_generator, validation_steps=len(test_generator))"
      ]
    },
    {
      "cell_type": "code",
      "execution_count": null,
      "metadata": {},
      "outputs": [],
      "source": [
        "import pandas as pd\n",
        "test_generator.reset\n",
        "pred=model.predict(test_generator)\n",
        "print(pred)"
      ]
    },
    {
      "cell_type": "code",
      "execution_count": null,
      "metadata": {},
      "outputs": [],
      "source": [
        "df=pd.DataFrame({'fileName':test_generator.filenames, 'predict_prob':pred[:,0]})\n",
        "df['predicted_labels'] = df['predict_prob'].apply(lambda x: 'dog' if x > 0.5 else 'cat')"
      ]
    },
    {
      "cell_type": "code",
      "execution_count": null,
      "metadata": {},
      "outputs": [],
      "source": [
        "print(df)"
      ]
    }
  ],
  "metadata": {
    "accelerator": "GPU",
    "colab": {
      "gpuType": "T4",
      "provenance": []
    },
    "kernelspec": {
      "display_name": "Python 3",
      "name": "python3"
    },
    "language_info": {
      "codemirror_mode": {
        "name": "ipython",
        "version": 3
      },
      "file_extension": ".py",
      "mimetype": "text/x-python",
      "name": "python",
      "nbconvert_exporter": "python",
      "pygments_lexer": "ipython3",
      "version": "3.6.2"
    }
  },
  "nbformat": 4,
  "nbformat_minor": 0
}
