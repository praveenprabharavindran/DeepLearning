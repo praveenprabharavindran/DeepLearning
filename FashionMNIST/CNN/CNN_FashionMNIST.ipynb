{
  "cells": [
    {
      "cell_type": "markdown",
      "metadata": {
        "id": "view-in-github",
        "colab_type": "text"
      },
      "source": [
        "<a href=\"https://colab.research.google.com/github/praveenprabharavindran/MachineLearning/blob/main/FashionMNIST/CNN/CNN_FashionMNIST.ipynb\" target=\"_parent\"><img src=\"https://colab.research.google.com/assets/colab-badge.svg\" alt=\"Open In Colab\"/></a>"
      ]
    },
    {
      "cell_type": "code",
      "execution_count": null,
      "metadata": {
        "colab": {
          "base_uri": "https://localhost:8080/"
        },
        "id": "BaTH6RMy8PiR",
        "outputId": "80c68dda-8011-4e0f-9079-f31c7c234e13"
      },
      "outputs": [
        {
          "output_type": "stream",
          "name": "stdout",
          "text": [
            "Downloading data from https://storage.googleapis.com/tensorflow/tf-keras-datasets/train-labels-idx1-ubyte.gz\n",
            "29515/29515 [==============================] - 0s 0us/step\n",
            "Downloading data from https://storage.googleapis.com/tensorflow/tf-keras-datasets/train-images-idx3-ubyte.gz\n",
            "26421880/26421880 [==============================] - 0s 0us/step\n",
            "Downloading data from https://storage.googleapis.com/tensorflow/tf-keras-datasets/t10k-labels-idx1-ubyte.gz\n",
            "5148/5148 [==============================] - 0s 0us/step\n",
            "Downloading data from https://storage.googleapis.com/tensorflow/tf-keras-datasets/t10k-images-idx3-ubyte.gz\n",
            "4422102/4422102 [==============================] - 0s 0us/step\n",
            "Epoch 1/30\n",
            "938/938 [==============================] - 33s 34ms/step - loss: 0.5806 - accuracy: 0.7817 - val_loss: 0.4369 - val_accuracy: 0.8387\n",
            "Epoch 2/30\n",
            "938/938 [==============================] - 31s 33ms/step - loss: 0.3794 - accuracy: 0.8601 - val_loss: 0.3590 - val_accuracy: 0.8688\n",
            "Epoch 3/30\n",
            "938/938 [==============================] - 31s 33ms/step - loss: 0.3228 - accuracy: 0.8815 - val_loss: 0.2987 - val_accuracy: 0.8938\n",
            "Epoch 4/30\n",
            "938/938 [==============================] - 32s 34ms/step - loss: 0.2944 - accuracy: 0.8925 - val_loss: 0.3006 - val_accuracy: 0.8908\n",
            "Epoch 5/30\n",
            "938/938 [==============================] - 30s 32ms/step - loss: 0.2725 - accuracy: 0.8999 - val_loss: 0.2728 - val_accuracy: 0.9022\n",
            "Epoch 6/30\n",
            "938/938 [==============================] - 31s 33ms/step - loss: 0.2556 - accuracy: 0.9057 - val_loss: 0.2675 - val_accuracy: 0.9051\n",
            "Epoch 7/30\n",
            "938/938 [==============================] - 30s 32ms/step - loss: 0.2407 - accuracy: 0.9110 - val_loss: 0.2551 - val_accuracy: 0.9080\n",
            "Epoch 8/30\n",
            "938/938 [==============================] - 31s 33ms/step - loss: 0.2297 - accuracy: 0.9139 - val_loss: 0.2442 - val_accuracy: 0.9120\n",
            "Epoch 9/30\n",
            "938/938 [==============================] - 30s 32ms/step - loss: 0.2188 - accuracy: 0.9173 - val_loss: 0.2588 - val_accuracy: 0.9044\n",
            "Epoch 10/30\n",
            "938/938 [==============================] - 31s 33ms/step - loss: 0.2110 - accuracy: 0.9208 - val_loss: 0.2406 - val_accuracy: 0.9140\n",
            "Epoch 11/30\n",
            "241/938 [======>.......................] - ETA: 22s - loss: 0.1988 - accuracy: 0.9238"
          ]
        }
      ],
      "source": [
        "import tensorflow as tf\n",
        "from tensorflow.keras import layers, models\n",
        "from tensorflow.keras.datasets import fashion_mnist\n",
        "from tensorflow.keras.utils import to_categorical\n",
        "\n",
        "# Load the Fashion MNIST dataset\n",
        "(train_images, train_labels), (test_images, test_labels) = fashion_mnist.load_data()\n",
        "\n",
        "# Normalize pixel values to be between 0 and 1\n",
        "train_images, test_images = train_images / 255.0, test_images / 255.0\n",
        "\n",
        "# One-hot encode the labels\n",
        "train_labels = to_categorical(train_labels)\n",
        "test_labels = to_categorical(test_labels)\n",
        "\n",
        "# Define the CNN model\n",
        "model = models.Sequential()\n",
        "model.add(layers.Conv2D(32, (3, 3), activation='relu', input_shape=(28, 28, 1)))\n",
        "model.add(layers.MaxPooling2D((2, 2)))\n",
        "model.add(layers.Conv2D(64, (3, 3), activation='relu'))\n",
        "model.add(layers.MaxPooling2D((2, 2)))\n",
        "model.add(layers.Dropout(0.3))\n",
        "model.add(layers.Conv2D(64, (3, 3), activation='relu'))\n",
        "model.add(layers.Flatten())\n",
        "model.add(layers.Dense(64, activation='relu'))\n",
        "model.add(layers.Dense(10, activation='softmax'))\n",
        "\n",
        "# Compile the model\n",
        "model.compile(optimizer='adam',\n",
        "              loss='categorical_crossentropy',\n",
        "              metrics=['accuracy'])\n",
        "\n",
        "# Reshape the data to fit the input shape of the model\n",
        "train_images = train_images.reshape((-1, 28, 28, 1))\n",
        "test_images = test_images.reshape((-1, 28, 28, 1))\n",
        "\n",
        "# Train the model\n",
        "model.fit(train_images, train_labels, epochs=30, batch_size=64, validation_data=(test_images, test_labels))\n",
        "\n",
        "# Evaluate the model\n",
        "test_loss, test_acc = model.evaluate(test_images, test_labels)\n",
        "print(\"Test accuracy:\", test_acc)\n"
      ]
    },
    {
      "cell_type": "code",
      "execution_count": null,
      "metadata": {
        "colab": {
          "base_uri": "https://localhost:8080/"
        },
        "id": "_1M3lPCD-3RU",
        "outputId": "a32cd434-9ad5-4fd8-f60a-e284ec28c4d7"
      },
      "outputs": [
        {
          "name": "stdout",
          "output_type": "stream",
          "text": [
            "Test accuracy: 0.9193999767303467 0.2569129467010498\n"
          ]
        }
      ],
      "source": [
        "print(\"Test accuracy:\", test_acc, test_loss)"
      ]
    }
  ],
  "metadata": {
    "colab": {
      "provenance": [],
      "include_colab_link": true
    },
    "kernelspec": {
      "display_name": "Python 3 (ipykernel)",
      "language": "python",
      "name": "python3"
    },
    "language_info": {
      "codemirror_mode": {
        "name": "ipython",
        "version": 3
      },
      "file_extension": ".py",
      "mimetype": "text/x-python",
      "name": "python",
      "nbconvert_exporter": "python",
      "pygments_lexer": "ipython3",
      "version": "3.11.5"
    }
  },
  "nbformat": 4,
  "nbformat_minor": 0
}