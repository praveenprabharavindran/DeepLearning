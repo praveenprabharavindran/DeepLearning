{
  "nbformat": 4,
  "nbformat_minor": 0,
  "metadata": {
    "colab": {
      "private_outputs": true,
      "provenance": [],
      "authorship_tag": "ABX9TyPu0053RVTMNG8Wzn2Y8vrb",
      "include_colab_link": true
    },
    "kernelspec": {
      "name": "python3",
      "display_name": "Python 3"
    },
    "language_info": {
      "name": "python"
    }
  },
  "cells": [
    {
      "cell_type": "markdown",
      "metadata": {
        "id": "view-in-github",
        "colab_type": "text"
      },
      "source": [
        "<a href=\"https://colab.research.google.com/github/praveenprabharavindran/MachineLearning/blob/main/FashionMNIST/fashion_mnist_image_filters.ipynb\" target=\"_parent\"><img src=\"https://colab.research.google.com/assets/colab-badge.svg\" alt=\"Open In Colab\"/></a>"
      ]
    },
    {
      "cell_type": "code",
      "execution_count": null,
      "metadata": {
        "id": "yGY2yYVB-Lsk"
      },
      "outputs": [],
      "source": [
        "!pip install opencv-python\n"
      ]
    },
    {
      "cell_type": "code",
      "source": [
        "import cv2\n",
        "import numpy as np\n",
        "import matplotlib.pyplot as plt\n",
        "from tensorflow.keras.datasets import fashion_mnist\n",
        "(x_train,y_train),(x_test,y_test)=fashion_mnist.load_data();\n",
        "\n",
        "fashion_classes = [\"T-shirt/top\", \"Trouser\", \"Pullover\", \"Dress\", \"Coat\", \"Sandal\", \"Shirt\", \"Sneaker\", \"Bag\", \"Ankle boot\"]\n"
      ],
      "metadata": {
        "id": "_z-GwtqX-qfK"
      },
      "execution_count": null,
      "outputs": []
    },
    {
      "cell_type": "code",
      "source": [
        "\n",
        "# Function to display two images with labels\n",
        "def show_image(data1, desc1, data2, desc2, label):\n",
        "    # Create a title for the images\n",
        "\n",
        "    # Create a figure with two subplots\n",
        "    plt.figure(figsize=(10, 5))\n",
        "\n",
        "    # Plot the first image\n",
        "    plt.subplot(1, 2, 1)\n",
        "    plt.title(f\"{desc1} - {label}\")\n",
        "    plt.imshow(data1, cmap='gray')\n",
        "\n",
        "    # Plot the second image\n",
        "    plt.subplot(1, 2, 2)\n",
        "    plt.title(f\"{desc2} - {label}\")\n",
        "    plt.imshow(data2, cmap='gray')\n",
        "\n",
        "    # Display the images\n",
        "    plt.show()\n"
      ],
      "metadata": {
        "id": "3lGP60fZAoRF"
      },
      "execution_count": null,
      "outputs": []
    },
    {
      "cell_type": "code",
      "source": [
        "\n",
        "index = 512\n",
        "grayscale_image = cv2.cvtColor(cv2.resize(x_train[index],(512,512)), cv2.COLOR_GRAY2RGB)\n",
        "\n",
        "# Define Gaussian blur\n",
        "kernel_size = (5, 5)\n",
        "guassian_blur = cv2.GaussianBlur(grayscale_image, kernel_size, 0)\n",
        "\n",
        "# Define Canny edget detection\n",
        "canny_edge = cv2.Canny(grayscale_image, threshold1=30, threshold2=100)\n",
        "\n",
        "# Apply the Laplacian filter\n",
        "laplacian_filtered_image = cv2.Laplacian(grayscale_image, cv2.CV_64F)\n"
      ],
      "metadata": {
        "id": "17YbFb-3-O37"
      },
      "execution_count": null,
      "outputs": []
    },
    {
      "cell_type": "code",
      "source": [
        "\n",
        "# Display the original and filtered images\n",
        "show_image(x_train[index], 'Original', guassian_blur, 'GaussianBlured', fashion_classes[y_train[index]])\n",
        "\n",
        "# # Display the original and filtered images\n",
        "show_image(x_train[index], 'Original', canny_edge, 'Canny edge', fashion_classes[y_train[index]])\n",
        "\n",
        "# # Display the original and filtered images\n",
        "show_image(x_train[index], 'Original', laplacian_filtered_image, 'Laplacian', fashion_classes[y_train[index]])\n"
      ],
      "metadata": {
        "id": "36abG9lbAdO-"
      },
      "execution_count": null,
      "outputs": []
    },
    {
      "cell_type": "code",
      "source": [
        "\n",
        "# Wait for a key press and then close the image windows\n",
        "# cv2.waitKey(0)\n",
        "# cv2.destroyAllWindows()\n"
      ],
      "metadata": {
        "id": "Voirqc8KJzNu"
      },
      "execution_count": null,
      "outputs": []
    }
  ]
}