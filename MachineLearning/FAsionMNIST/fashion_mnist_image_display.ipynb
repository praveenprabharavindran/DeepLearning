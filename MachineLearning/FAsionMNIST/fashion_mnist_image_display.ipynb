{
  "nbformat": 4,
  "nbformat_minor": 0,
  "metadata": {
    "colab": {
      "private_outputs": true,
      "provenance": [],
      "toc_visible": true,
      "authorship_tag": "ABX9TyM8WJPhNKP4DU/bF8ak1rJf",
      "include_colab_link": true
    },
    "kernelspec": {
      "name": "python3",
      "display_name": "Python 3"
    },
    "language_info": {
      "name": "python"
    }
  },
  "cells": [
    {
      "cell_type": "markdown",
      "metadata": {
        "id": "view-in-github",
        "colab_type": "text"
      },
      "source": [
        "<a href=\"https://colab.research.google.com/github/praveenprabharavindran/MachineLearning/blob/main/MachineLearning/FAsionMNIST/fashion_mnist_image_display.ipynb\" target=\"_parent\"><img src=\"https://colab.research.google.com/assets/colab-badge.svg\" alt=\"Open In Colab\"/></a>"
      ]
    },
    {
      "cell_type": "markdown",
      "source": [
        "# Load data"
      ],
      "metadata": {
        "id": "9IRFlK7m5SDI"
      }
    },
    {
      "cell_type": "code",
      "source": [
        "# Import necessary libraries\n",
        "import tensorflow as tf\n",
        "from tensorflow.keras.datasets import fashion_mnist\n",
        "import matplotlib.pyplot as plt\n",
        "import cv2\n",
        "\n",
        "# Load the Fashion MNIST dataset\n",
        "(x_train, y_train), (x_test, y_test) = fashion_mnist.load_data()\n",
        "fashion_classes = [\"T-shirt/top\", \"Trouser\", \"Pullover\", \"Dress\", \"Coat\", \"Sandal\", \"Shirt\", \"Sneaker\", \"Bag\", \"Ankle boot\"]\n",
        "\n"
      ],
      "metadata": {
        "id": "3uR5kgCC4yTq"
      },
      "execution_count": null,
      "outputs": []
    },
    {
      "cell_type": "markdown",
      "source": [
        "# Define a function to display images side by side from the fashion mnist dataset\n",
        " * images are expected to be different resolution eg: 28 x 28 or 32 x 32"
      ],
      "metadata": {
        "id": "XbRbKqvK5cV_"
      }
    },
    {
      "cell_type": "code",
      "source": [
        "# Function to display two images with labels\n",
        "def show_image(data1, desc1, data2, desc2, labels, index):\n",
        "    # Create a title for the images\n",
        "    title = f\"{labels[index]} - {fashion_classes[labels[index]]}\"\n",
        "\n",
        "    # Create a figure with two subplots\n",
        "    plt.figure(figsize=(10, 5))\n",
        "\n",
        "    # Plot the first image\n",
        "    plt.subplot(1, 2, 1)\n",
        "    plt.title(f\"{desc1} - {title}\")\n",
        "    plt.imshow(data1[index], cmap='gray')\n",
        "\n",
        "    # Plot the second image\n",
        "    plt.subplot(1, 2, 2)\n",
        "    plt.title(f\"{desc2} - {title}\")\n",
        "    plt.imshow(data2[index], cmap='gray')\n",
        "\n",
        "    # Display the images\n",
        "    plt.show()\n",
        "\n"
      ],
      "metadata": {
        "id": "aKCtYpN75Lm_"
      },
      "execution_count": null,
      "outputs": []
    },
    {
      "cell_type": "markdown",
      "source": [
        "# Resize images"
      ],
      "metadata": {
        "id": "01S1md_157s7"
      }
    },
    {
      "cell_type": "code",
      "source": [
        "# Resize images to 32x32 pixels and convert to 3-channel RGB\n",
        "x_train_32x32 = [cv2.cvtColor(cv2.resize(img, (32, 32)), cv2.COLOR_GRAY2RGB) for img in x_train]\n",
        "\n",
        "# Resize a subset of images to 2048x2048 pixels and convert to 3-channel RGB\n",
        "x_train_2048x2048 = [cv2.cvtColor(cv2.resize(img, (2048, 2048)), cv2.COLOR_GRAY2RGB) for img in x_train[:50]]\n",
        "\n",
        "\n"
      ],
      "metadata": {
        "id": "tbyXdB9I5NBx"
      },
      "execution_count": null,
      "outputs": []
    },
    {
      "cell_type": "markdown",
      "source": [
        "# Show an example of a 32x32 image along with its 28x28 counterpart"
      ],
      "metadata": {
        "id": "NLt0S0sb6kRK"
      }
    },
    {
      "cell_type": "code",
      "source": [
        "\n",
        "# Show an example of a 32x32 image along with its 28x28 counterpart\n",
        "show_image(x_train, '28x28', x_train_32x32, '32x32 RGB', y_train, 15)"
      ],
      "metadata": {
        "id": "gomS3mzv6Z2l"
      },
      "execution_count": null,
      "outputs": []
    },
    {
      "cell_type": "markdown",
      "source": [
        "# Show an example of a 2048x2048 image along with its 28x28 counterpart"
      ],
      "metadata": {
        "id": "WdZzcCKK6o_K"
      }
    },
    {
      "cell_type": "code",
      "source": [
        "# Show an example of a 2048x2048 image along with its 28x28 counterpart\n",
        "show_image(x_train, '28x28', x_train_2048x2048, '2048x2048 RGB', y_train, 15)"
      ],
      "metadata": {
        "id": "1B51OlSt6qPx"
      },
      "execution_count": null,
      "outputs": []
    }
  ]
}