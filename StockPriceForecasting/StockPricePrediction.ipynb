{
 "cells": [
  {
   "cell_type": "code",
   "execution_count": null,
   "metadata": {},
   "outputs": [],
   "source": []
  },
  {
   "cell_type": "code",
   "execution_count": 1,
   "metadata": {},
   "outputs": [],
   "source": [
    "#! pip3 install tensorflow\n",
    "#! pip3 install keras\n",
    "#! pip3 install pandas\n",
    "#! pip3 install scikit-learn\n",
    "#! pip3 install matplotlib\n",
    "#! pip3 install numpy\n",
    "#! pip3 install seaborn"
   ]
  },
  {
   "cell_type": "code",
   "execution_count": 2,
   "metadata": {},
   "outputs": [],
   "source": [
    "# import libraries\n",
    "import pandas as pd\n",
    "import sklearn\n",
    "import matplotlib.pyplot as plt\n",
    "import numpy as np\n",
    "%matplotlib inline"
   ]
  },
  {
   "cell_type": "code",
   "execution_count": 3,
   "metadata": {},
   "outputs": [
    {
     "name": "stdout",
     "output_type": "stream",
     "text": [
      "data_set.shape:  (2035, 8)\n"
     ]
    },
    {
     "data": {
      "text/html": [
       "<div>\n",
       "<style scoped>\n",
       "    .dataframe tbody tr th:only-of-type {\n",
       "        vertical-align: middle;\n",
       "    }\n",
       "\n",
       "    .dataframe tbody tr th {\n",
       "        vertical-align: top;\n",
       "    }\n",
       "\n",
       "    .dataframe thead th {\n",
       "        text-align: right;\n",
       "    }\n",
       "</style>\n",
       "<table border=\"1\" class=\"dataframe\">\n",
       "  <thead>\n",
       "    <tr style=\"text-align: right;\">\n",
       "      <th></th>\n",
       "      <th>Date</th>\n",
       "      <th>Open</th>\n",
       "      <th>High</th>\n",
       "      <th>Low</th>\n",
       "      <th>Last</th>\n",
       "      <th>Close</th>\n",
       "      <th>Total Trade Quantity</th>\n",
       "      <th>Turnover (Lacs)</th>\n",
       "    </tr>\n",
       "  </thead>\n",
       "  <tbody>\n",
       "    <tr>\n",
       "      <th>0</th>\n",
       "      <td>2018-09-28</td>\n",
       "      <td>234.05</td>\n",
       "      <td>235.95</td>\n",
       "      <td>230.20</td>\n",
       "      <td>233.50</td>\n",
       "      <td>233.75</td>\n",
       "      <td>3069914</td>\n",
       "      <td>7162.35</td>\n",
       "    </tr>\n",
       "    <tr>\n",
       "      <th>1</th>\n",
       "      <td>2018-09-27</td>\n",
       "      <td>234.55</td>\n",
       "      <td>236.80</td>\n",
       "      <td>231.10</td>\n",
       "      <td>233.80</td>\n",
       "      <td>233.25</td>\n",
       "      <td>5082859</td>\n",
       "      <td>11859.95</td>\n",
       "    </tr>\n",
       "    <tr>\n",
       "      <th>2</th>\n",
       "      <td>2018-09-26</td>\n",
       "      <td>240.00</td>\n",
       "      <td>240.00</td>\n",
       "      <td>232.50</td>\n",
       "      <td>235.00</td>\n",
       "      <td>234.25</td>\n",
       "      <td>2240909</td>\n",
       "      <td>5248.60</td>\n",
       "    </tr>\n",
       "    <tr>\n",
       "      <th>3</th>\n",
       "      <td>2018-09-25</td>\n",
       "      <td>233.30</td>\n",
       "      <td>236.75</td>\n",
       "      <td>232.00</td>\n",
       "      <td>236.25</td>\n",
       "      <td>236.10</td>\n",
       "      <td>2349368</td>\n",
       "      <td>5503.90</td>\n",
       "    </tr>\n",
       "    <tr>\n",
       "      <th>4</th>\n",
       "      <td>2018-09-24</td>\n",
       "      <td>233.55</td>\n",
       "      <td>239.20</td>\n",
       "      <td>230.75</td>\n",
       "      <td>234.00</td>\n",
       "      <td>233.30</td>\n",
       "      <td>3423509</td>\n",
       "      <td>7999.55</td>\n",
       "    </tr>\n",
       "    <tr>\n",
       "      <th>...</th>\n",
       "      <td>...</td>\n",
       "      <td>...</td>\n",
       "      <td>...</td>\n",
       "      <td>...</td>\n",
       "      <td>...</td>\n",
       "      <td>...</td>\n",
       "      <td>...</td>\n",
       "      <td>...</td>\n",
       "    </tr>\n",
       "    <tr>\n",
       "      <th>2030</th>\n",
       "      <td>2010-07-27</td>\n",
       "      <td>117.60</td>\n",
       "      <td>119.50</td>\n",
       "      <td>112.00</td>\n",
       "      <td>118.80</td>\n",
       "      <td>118.65</td>\n",
       "      <td>586100</td>\n",
       "      <td>694.98</td>\n",
       "    </tr>\n",
       "    <tr>\n",
       "      <th>2031</th>\n",
       "      <td>2010-07-26</td>\n",
       "      <td>120.10</td>\n",
       "      <td>121.00</td>\n",
       "      <td>117.10</td>\n",
       "      <td>117.10</td>\n",
       "      <td>117.60</td>\n",
       "      <td>658440</td>\n",
       "      <td>780.01</td>\n",
       "    </tr>\n",
       "    <tr>\n",
       "      <th>2032</th>\n",
       "      <td>2010-07-23</td>\n",
       "      <td>121.80</td>\n",
       "      <td>121.95</td>\n",
       "      <td>120.25</td>\n",
       "      <td>120.35</td>\n",
       "      <td>120.65</td>\n",
       "      <td>281312</td>\n",
       "      <td>340.31</td>\n",
       "    </tr>\n",
       "    <tr>\n",
       "      <th>2033</th>\n",
       "      <td>2010-07-22</td>\n",
       "      <td>120.30</td>\n",
       "      <td>122.00</td>\n",
       "      <td>120.25</td>\n",
       "      <td>120.75</td>\n",
       "      <td>120.90</td>\n",
       "      <td>293312</td>\n",
       "      <td>355.17</td>\n",
       "    </tr>\n",
       "    <tr>\n",
       "      <th>2034</th>\n",
       "      <td>2010-07-21</td>\n",
       "      <td>122.10</td>\n",
       "      <td>123.00</td>\n",
       "      <td>121.05</td>\n",
       "      <td>121.10</td>\n",
       "      <td>121.55</td>\n",
       "      <td>658666</td>\n",
       "      <td>803.56</td>\n",
       "    </tr>\n",
       "  </tbody>\n",
       "</table>\n",
       "<p>2035 rows × 8 columns</p>\n",
       "</div>"
      ],
      "text/plain": [
       "            Date    Open    High     Low    Last   Close  \\\n",
       "0     2018-09-28  234.05  235.95  230.20  233.50  233.75   \n",
       "1     2018-09-27  234.55  236.80  231.10  233.80  233.25   \n",
       "2     2018-09-26  240.00  240.00  232.50  235.00  234.25   \n",
       "3     2018-09-25  233.30  236.75  232.00  236.25  236.10   \n",
       "4     2018-09-24  233.55  239.20  230.75  234.00  233.30   \n",
       "...          ...     ...     ...     ...     ...     ...   \n",
       "2030  2010-07-27  117.60  119.50  112.00  118.80  118.65   \n",
       "2031  2010-07-26  120.10  121.00  117.10  117.10  117.60   \n",
       "2032  2010-07-23  121.80  121.95  120.25  120.35  120.65   \n",
       "2033  2010-07-22  120.30  122.00  120.25  120.75  120.90   \n",
       "2034  2010-07-21  122.10  123.00  121.05  121.10  121.55   \n",
       "\n",
       "      Total Trade Quantity  Turnover (Lacs)  \n",
       "0                  3069914          7162.35  \n",
       "1                  5082859         11859.95  \n",
       "2                  2240909          5248.60  \n",
       "3                  2349368          5503.90  \n",
       "4                  3423509          7999.55  \n",
       "...                    ...              ...  \n",
       "2030                586100           694.98  \n",
       "2031                658440           780.01  \n",
       "2032                281312           340.31  \n",
       "2033                293312           355.17  \n",
       "2034                658666           803.56  \n",
       "\n",
       "[2035 rows x 8 columns]"
      ]
     },
     "execution_count": 3,
     "metadata": {},
     "output_type": "execute_result"
    }
   ],
   "source": [
    "data_set = pd.read_csv('data/NSE-TATAGLOBAL.csv')\n",
    "print('data_set.shape: ',data_set.shape)\n",
    "data_set"
   ]
  },
  {
   "cell_type": "code",
   "execution_count": 4,
   "metadata": {},
   "outputs": [
    {
     "data": {
      "text/plain": [
       "<Axes: >"
      ]
     },
     "execution_count": 4,
     "metadata": {},
     "output_type": "execute_result"
    },
    {
     "data": {
      "image/png": "[encoded data removed]",
      "text/plain": [
       "<Figure size 1600x600 with 1 Axes>"
      ]
     },
     "metadata": {},
     "output_type": "display_data"
    }
   ],
   "source": [
    "# plot the data\n",
    "data_set['Open'].plot(figsize=(16,6), legend=True)\n"
   ]
  },
  {
   "cell_type": "code",
   "execution_count": 5,
   "metadata": {},
   "outputs": [
    {
     "name": "stdout",
     "output_type": "stream",
     "text": [
      "[[234.05]\n",
      " [234.55]\n",
      " [240.  ]\n",
      " ...\n",
      " [121.8 ]\n",
      " [120.3 ]\n",
      " [122.1 ]]\n"
     ]
    }
   ],
   "source": [
    "train_set = data_set.iloc[:, 1:2].values\n",
    "print(train_set)"
   ]
  },
  {
   "cell_type": "code",
   "execution_count": 6,
   "metadata": {},
   "outputs": [
    {
     "data": {
      "text/plain": [
       "array([[0.6202352 ],\n",
       "       [0.62226277],\n",
       "       [0.64436334],\n",
       "       ...,\n",
       "       [0.16504461],\n",
       "       [0.15896188],\n",
       "       [0.16626115]])"
      ]
     },
     "execution_count": 6,
     "metadata": {},
     "output_type": "execute_result"
    }
   ],
   "source": [
    "from sklearn.preprocessing import MinMaxScaler\n",
    "sc = MinMaxScaler(feature_range=(0,1))\n",
    "train_set_scaled = sc.fit_transform(train_set)\n",
    "train_set_scaled"
   ]
  },
  {
   "cell_type": "code",
   "execution_count": 7,
   "metadata": {},
   "outputs": [
    {
     "data": {
      "text/plain": [
       "2035"
      ]
     },
     "execution_count": 7,
     "metadata": {},
     "output_type": "execute_result"
    }
   ],
   "source": [
    "len(train_set_scaled)"
   ]
  },
  {
   "cell_type": "code",
   "execution_count": 8,
   "metadata": {},
   "outputs": [],
   "source": [
    "window_size = 60\n",
    "x_train = []\n",
    "y_train = []\n",
    "for i in range(window_size, len(train_set_scaled)):\n",
    "    x_train.append(train_set_scaled[i-window_size:i, 0])\n",
    "    y_train.append(train_set_scaled[i, 0])\n",
    "\n",
    "x_train, y_train = np.array(x_train), np.array(y_train)"
   ]
  },
  {
   "cell_type": "code",
   "execution_count": 9,
   "metadata": {},
   "outputs": [
    {
     "name": "stdout",
     "output_type": "stream",
     "text": [
      "[[0.6202352  0.62226277 0.64436334 ... 0.79622871 0.81062449 0.74371452]\n",
      " [0.62226277 0.64436334 0.61719384 ... 0.81062449 0.74371452 0.77007299]\n",
      " [0.64436334 0.61719384 0.61820762 ... 0.74371452 0.77007299 0.73641525]\n",
      " ...\n",
      " [0.19870235 0.21796431 0.21553122 ... 0.14963504 0.14801298 0.15815085]\n",
      " [0.21796431 0.21553122 0.20600162 ... 0.14801298 0.15815085 0.16504461]\n",
      " [0.21553122 0.20600162 0.21654501 ... 0.15815085 0.16504461 0.15896188]]\n"
     ]
    },
    {
     "data": {
      "text/plain": [
       "(1975, 60)"
      ]
     },
     "execution_count": 9,
     "metadata": {},
     "output_type": "execute_result"
    }
   ],
   "source": [
    "print(x_train)\n",
    "x_train.shape"
   ]
  },
  {
   "cell_type": "code",
   "execution_count": 10,
   "metadata": {},
   "outputs": [
    {
     "data": {
      "text/plain": [
       "array([[0.6202352 , 0.62226277, 0.64436334, ..., 0.79622871, 0.81062449,\n",
       "        0.74371452],\n",
       "       [0.62226277, 0.64436334, 0.61719384, ..., 0.81062449, 0.74371452,\n",
       "        0.77007299],\n",
       "       [0.64436334, 0.61719384, 0.61820762, ..., 0.74371452, 0.77007299,\n",
       "        0.73641525],\n",
       "       ...,\n",
       "       [0.79622871, 0.81062449, 0.74371452, ..., 0.78223844, 0.78223844,\n",
       "        0.78183293],\n",
       "       [0.81062449, 0.74371452, 0.77007299, ..., 0.78223844, 0.78183293,\n",
       "        0.79075426],\n",
       "       [0.74371452, 0.77007299, 0.73641525, ..., 0.78183293, 0.79075426,\n",
       "        0.80738037]])"
      ]
     },
     "execution_count": 10,
     "metadata": {},
     "output_type": "execute_result"
    }
   ],
   "source": [
    "x_train[0:window_size]"
   ]
  },
  {
   "cell_type": "code",
   "execution_count": 11,
   "metadata": {},
   "outputs": [],
   "source": [
    "# Convert x_train to 3D\n",
    "# x_train.shape = (1975, 60): which means 1975 rows and 60 columns\n",
    "# we are reshaping it to (1975, 60, 1): which means 1975 rows, of 60 rows x 1 column 3D array\n",
    "x_train = x_train.reshape(x_train.shape[0], x_train.shape[1], 1)"
   ]
  },
  {
   "cell_type": "code",
   "execution_count": 12,
   "metadata": {},
   "outputs": [
    {
     "data": {
      "text/plain": [
       "array([[0.6202352 ],\n",
       "       [0.62226277],\n",
       "       [0.64436334],\n",
       "       [0.61719384],\n",
       "       [0.61820762],\n",
       "       [0.62408759],\n",
       "       [0.62793998],\n",
       "       [0.63584753],\n",
       "       [0.61658556],\n",
       "       [0.57725061],\n",
       "       [0.54845904],\n",
       "       [0.57339822],\n",
       "       [0.57339822],\n",
       "       [0.56731549],\n",
       "       [0.57948094],\n",
       "       [0.57137064],\n",
       "       [0.63706407],\n",
       "       [0.62814274],\n",
       "       [0.63219789],\n",
       "       [0.62550689],\n",
       "       [0.61942417],\n",
       "       [0.63219789],\n",
       "       [0.61111111],\n",
       "       [0.62206002],\n",
       "       [0.64557989],\n",
       "       [0.67234388],\n",
       "       [0.66058394],\n",
       "       [0.64760746],\n",
       "       [0.6283455 ],\n",
       "       [0.62408759],\n",
       "       [0.61597729],\n",
       "       [0.63341444],\n",
       "       [0.63077859],\n",
       "       [0.63321168],\n",
       "       [0.64841849],\n",
       "       [0.62469586],\n",
       "       [0.62814274],\n",
       "       [0.61394972],\n",
       "       [0.67964315],\n",
       "       [0.65815085],\n",
       "       [0.6593674 ],\n",
       "       [0.64841849],\n",
       "       [0.62773723],\n",
       "       [0.67883212],\n",
       "       [0.66058394],\n",
       "       [0.63990268],\n",
       "       [0.60888078],\n",
       "       [0.6431468 ],\n",
       "       [0.6784266 ],\n",
       "       [0.65064882],\n",
       "       [0.71695053],\n",
       "       [0.74574209],\n",
       "       [0.7676399 ],\n",
       "       [0.78548256],\n",
       "       [0.78994323],\n",
       "       [0.75892133],\n",
       "       [0.76520681],\n",
       "       [0.79622871],\n",
       "       [0.81062449],\n",
       "       [0.74371452]])"
      ]
     },
     "execution_count": 12,
     "metadata": {},
     "output_type": "execute_result"
    }
   ],
   "source": [
    "x_train[0]"
   ]
  },
  {
   "cell_type": "code",
   "execution_count": 13,
   "metadata": {},
   "outputs": [],
   "source": [
    "# Build the LSTM\n",
    "from tensorflow.keras.models import Sequential\n",
    "from tensorflow.keras.layers import Dense, LSTM, Dropout    "
   ]
  },
  {
   "cell_type": "code",
   "execution_count": 14,
   "metadata": {
    "slideshow": {
     "slide_type": "fragment"
    }
   },
   "outputs": [
    {
     "name": "stdout",
     "output_type": "stream",
     "text": [
      "Model: \"sequential\"\n",
      "_________________________________________________________________\n",
      " Layer (type)                Output Shape              Param #   \n",
      "=================================================================\n",
      " lstm (LSTM)                 (None, 60, 50)            10400     \n",
      "                                                                 \n",
      " dropout (Dropout)           (None, 60, 50)            0         \n",
      "                                                                 \n",
      " lstm_1 (LSTM)               (None, 60, 50)            20200     \n",
      "                                                                 \n",
      " dropout_1 (Dropout)         (None, 60, 50)            0         \n",
      "                                                                 \n",
      " lstm_2 (LSTM)               (None, 60, 50)            20200     \n",
      "                                                                 \n",
      " dropout_2 (Dropout)         (None, 60, 50)            0         \n",
      "                                                                 \n",
      " lstm_3 (LSTM)               (None, 50)                20200     \n",
      "                                                                 \n",
      " dropout_3 (Dropout)         (None, 50)                0         \n",
      "                                                                 \n",
      " dense (Dense)               (None, 1)                 51        \n",
      "                                                                 \n",
      "=================================================================\n",
      "Total params: 71,051\n",
      "Trainable params: 71,051\n",
      "Non-trainable params: 0\n",
      "_________________________________________________________________\n",
      "None\n"
     ]
    }
   ],
   "source": [
    "# crete the architecture\n",
    "model = Sequential()\n",
    "model.add(LSTM(units=50,return_sequences=True,input_shape=(window_size, 1)))\n",
    "model.add(Dropout(0.2))\n",
    "\n",
    "# layer #2\n",
    "model.add(LSTM(units=50,return_sequences=True))\n",
    "model.add(Dropout(0.2))\n",
    "\n",
    "# layer #3\n",
    "model.add(LSTM(units=50,return_sequences=True))\n",
    "model.add(Dropout(0.2))\n",
    "\n",
    "# layer #4\n",
    "model.add(LSTM(units=50))\n",
    "model.add(Dropout(0.2))\n",
    "\n",
    "# output layer\n",
    "model.add(Dense(units=1))\n",
    "\n",
    "print(model.summary())"
   ]
  },
  {
   "cell_type": "code",
   "execution_count": 15,
   "metadata": {},
   "outputs": [],
   "source": [
    "#model.compile\n",
    "model.compile(optimizer='adam', loss='mean_squared_error')"
   ]
  },
  {
   "cell_type": "code",
   "execution_count": 75,
   "metadata": {},
   "outputs": [
    {
     "name": "stdout",
     "output_type": "stream",
     "text": [
      "Epoch 1/50\n",
      "62/62 [==============================] - 7s 106ms/step - loss: 0.0017\n",
      "Epoch 2/50\n",
      "62/62 [==============================] - 6s 96ms/step - loss: 0.0017\n",
      "Epoch 3/50\n",
      "62/62 [==============================] - 7s 107ms/step - loss: 0.0018\n",
      "Epoch 4/50\n",
      "62/62 [==============================] - 7s 108ms/step - loss: 0.0021\n",
      "Epoch 5/50\n",
      "62/62 [==============================] - 6s 96ms/step - loss: 0.0016\n",
      "Epoch 6/50\n",
      "62/62 [==============================] - 6s 91ms/step - loss: 0.0015\n",
      "Epoch 7/50\n",
      "62/62 [==============================] - 6s 95ms/step - loss: 0.0014\n",
      "Epoch 8/50\n",
      "62/62 [==============================] - 6s 102ms/step - loss: 0.0015\n",
      "Epoch 9/50\n",
      "62/62 [==============================] - 6s 104ms/step - loss: 0.0016\n",
      "Epoch 10/50\n",
      "62/62 [==============================] - 7s 109ms/step - loss: 0.0015\n",
      "Epoch 11/50\n",
      "62/62 [==============================] - 7s 119ms/step - loss: 0.0014\n",
      "Epoch 12/50\n",
      "62/62 [==============================] - 7s 117ms/step - loss: 0.0013\n",
      "Epoch 13/50\n",
      "62/62 [==============================] - 7s 108ms/step - loss: 0.0013\n",
      "Epoch 14/50\n",
      "62/62 [==============================] - 6s 99ms/step - loss: 0.0013\n",
      "Epoch 15/50\n",
      "62/62 [==============================] - 6s 98ms/step - loss: 0.0014\n",
      "Epoch 16/50\n",
      "62/62 [==============================] - 6s 99ms/step - loss: 0.0012\n",
      "Epoch 17/50\n",
      "62/62 [==============================] - 6s 103ms/step - loss: 0.0015\n",
      "Epoch 18/50\n",
      "62/62 [==============================] - 7s 118ms/step - loss: 0.0012\n",
      "Epoch 19/50\n",
      "62/62 [==============================] - 7s 110ms/step - loss: 0.0010\n",
      "Epoch 20/50\n",
      "62/62 [==============================] - 6s 100ms/step - loss: 0.0012\n",
      "Epoch 21/50\n",
      "62/62 [==============================] - 7s 105ms/step - loss: 0.0012\n",
      "Epoch 22/50\n",
      "62/62 [==============================] - 7s 114ms/step - loss: 0.0012\n",
      "Epoch 23/50\n",
      "62/62 [==============================] - 8s 125ms/step - loss: 0.0010\n",
      "Epoch 24/50\n",
      "62/62 [==============================] - 7s 115ms/step - loss: 9.7787e-04\n",
      "Epoch 25/50\n",
      "62/62 [==============================] - 7s 114ms/step - loss: 9.7016e-04\n",
      "Epoch 26/50\n",
      "62/62 [==============================] - 7s 113ms/step - loss: 9.9328e-04\n",
      "Epoch 27/50\n",
      "62/62 [==============================] - 7s 120ms/step - loss: 9.7298e-04\n",
      "Epoch 28/50\n",
      "62/62 [==============================] - 7s 113ms/step - loss: 0.0011\n",
      "Epoch 29/50\n",
      "62/62 [==============================] - 7s 110ms/step - loss: 0.0012\n",
      "Epoch 30/50\n",
      "62/62 [==============================] - 7s 111ms/step - loss: 9.1573e-04\n",
      "Epoch 31/50\n",
      "62/62 [==============================] - 7s 108ms/step - loss: 0.0010\n",
      "Epoch 32/50\n",
      "62/62 [==============================] - 7s 115ms/step - loss: 8.6044e-04\n",
      "Epoch 33/50\n",
      "62/62 [==============================] - 7s 111ms/step - loss: 9.2864e-04\n",
      "Epoch 34/50\n",
      "62/62 [==============================] - 7s 109ms/step - loss: 8.6015e-04\n",
      "Epoch 35/50\n",
      "62/62 [==============================] - 7s 114ms/step - loss: 8.6443e-04\n",
      "Epoch 36/50\n",
      "62/62 [==============================] - 7s 117ms/step - loss: 9.6770e-04\n",
      "Epoch 37/50\n",
      "62/62 [==============================] - 7s 113ms/step - loss: 8.0755e-04\n",
      "Epoch 38/50\n",
      "62/62 [==============================] - 7s 111ms/step - loss: 7.9662e-04\n",
      "Epoch 39/50\n",
      "62/62 [==============================] - 7s 109ms/step - loss: 8.1611e-04\n",
      "Epoch 40/50\n",
      "62/62 [==============================] - 7s 111ms/step - loss: 8.3143e-04\n",
      "Epoch 41/50\n",
      "62/62 [==============================] - 7s 112ms/step - loss: 8.7155e-04\n",
      "Epoch 42/50\n",
      "62/62 [==============================] - 7s 117ms/step - loss: 8.4041e-04\n",
      "Epoch 43/50\n",
      "62/62 [==============================] - 7s 112ms/step - loss: 7.0231e-04\n",
      "Epoch 44/50\n",
      "62/62 [==============================] - 7s 108ms/step - loss: 9.2354e-04\n",
      "Epoch 45/50\n",
      "62/62 [==============================] - 8s 122ms/step - loss: 7.0326e-04\n",
      "Epoch 46/50\n",
      "62/62 [==============================] - 7s 114ms/step - loss: 7.2522e-04\n",
      "Epoch 47/50\n",
      "62/62 [==============================] - 7s 111ms/step - loss: 7.0818e-04\n",
      "Epoch 48/50\n",
      "62/62 [==============================] - 7s 111ms/step - loss: 9.1951e-04\n",
      "Epoch 49/50\n",
      "62/62 [==============================] - 7s 110ms/step - loss: 9.0619e-04\n",
      "Epoch 50/50\n",
      "62/62 [==============================] - 7s 112ms/step - loss: 7.3739e-04\n"
     ]
    },
    {
     "data": {
      "text/plain": [
       "<keras.callbacks.History at 0x1651f0151b0>"
      ]
     },
     "execution_count": 75,
     "metadata": {},
     "output_type": "execute_result"
    }
   ],
   "source": [
    "# run the model\n",
    "model.fit(x_train, y_train, epochs=50, batch_size=32)"
   ]
  },
  {
   "cell_type": "code",
   "execution_count": 76,
   "metadata": {},
   "outputs": [],
   "source": [
    "model.save('stock_price_prediction.h5')"
   ]
  },
  {
   "cell_type": "code",
   "execution_count": 77,
   "metadata": {},
   "outputs": [],
   "source": [
    "dataset_test = pd.read_csv('data/tatatest.csv')"
   ]
  },
  {
   "cell_type": "code",
   "execution_count": 78,
   "metadata": {},
   "outputs": [],
   "source": [
    "data_set.head(10)\n",
    "test_set = dataset_test.iloc[:, 1:2].values"
   ]
  },
  {
   "cell_type": "code",
   "execution_count": 79,
   "metadata": {},
   "outputs": [],
   "source": [
    "dataset_total = pd.concat((data_set['Open'], dataset_test['Open']), axis=0)"
   ]
  },
  {
   "cell_type": "code",
   "execution_count": 80,
   "metadata": {},
   "outputs": [],
   "source": [
    "inputs = dataset_total[len(dataset_total) - len(dataset_test) - window_size:].values    \n",
    "inputs = inputs.reshape(-1,1)\n",
    "inputs = sc.transform(inputs)\n",
    "x_test = []\n",
    "for i in range(window_size, len(inputs)):\n",
    "    x_test.append(inputs[i-window_size:i, 0])\n",
    "x_test = np.array(x_test)\n",
    "x_test = x_test.reshape(x_test.shape[0], x_test.shape[1], 1)"
   ]
  },
  {
   "cell_type": "code",
   "execution_count": 81,
   "metadata": {},
   "outputs": [
    {
     "data": {
      "text/plain": [
       "array([[0.20600162],\n",
       "       [0.21654501],\n",
       "       [0.21654501],\n",
       "       [0.2175588 ],\n",
       "       [0.19870235],\n",
       "       [0.19018654],\n",
       "       [0.17802109],\n",
       "       [0.175588  ],\n",
       "       [0.16301703],\n",
       "       [0.16707218],\n",
       "       [0.17112733],\n",
       "       [0.17639903],\n",
       "       [0.18349554],\n",
       "       [0.1717356 ],\n",
       "       [0.16423358],\n",
       "       [0.16991079],\n",
       "       [0.17619627],\n",
       "       [0.16788321],\n",
       "       [0.16909976],\n",
       "       [0.17396594],\n",
       "       [0.17741281],\n",
       "       [0.18268451],\n",
       "       [0.19221411],\n",
       "       [0.18896999],\n",
       "       [0.19018654],\n",
       "       [0.17396594],\n",
       "       [0.17092457],\n",
       "       [0.16788321],\n",
       "       [0.17477697],\n",
       "       [0.16443633],\n",
       "       [0.14557989],\n",
       "       [0.15287916],\n",
       "       [0.15369019],\n",
       "       [0.15044607],\n",
       "       [0.14152474],\n",
       "       [0.15145985],\n",
       "       [0.13341444],\n",
       "       [0.12530414],\n",
       "       [0.11719384],\n",
       "       [0.11780211],\n",
       "       [0.12489862],\n",
       "       [0.14132198],\n",
       "       [0.13098135],\n",
       "       [0.12935929],\n",
       "       [0.13240065],\n",
       "       [0.12895377],\n",
       "       [0.12530414],\n",
       "       [0.13381995],\n",
       "       [0.14557989],\n",
       "       [0.15166261],\n",
       "       [0.15085158],\n",
       "       [0.14679643],\n",
       "       [0.14355231],\n",
       "       [0.12733171],\n",
       "       [0.14963504],\n",
       "       [0.14801298],\n",
       "       [0.15815085],\n",
       "       [0.16504461],\n",
       "       [0.15896188],\n",
       "       [0.16626115],\n",
       "       [0.56366586],\n",
       "       [0.56772101],\n",
       "       [0.60158151],\n",
       "       [0.60502839],\n",
       "       [0.6350365 ],\n",
       "       [0.63260341],\n",
       "       [0.6025953 ],\n",
       "       [0.58860503],\n",
       "       [0.54298459],\n",
       "       [0.54298459],\n",
       "       [0.54501217],\n",
       "       [0.51459854],\n",
       "       [0.55109489],\n",
       "       [0.57745337],\n",
       "       [0.60381184],\n",
       "       [0.62226277]])"
      ]
     },
     "execution_count": 81,
     "metadata": {},
     "output_type": "execute_result"
    }
   ],
   "source": [
    "inputs"
   ]
  },
  {
   "cell_type": "code",
   "execution_count": 82,
   "metadata": {},
   "outputs": [
    {
     "data": {
      "text/plain": [
       "(16, 60, 1)"
      ]
     },
     "execution_count": 82,
     "metadata": {},
     "output_type": "execute_result"
    }
   ],
   "source": [
    "x_test.shape"
   ]
  },
  {
   "cell_type": "code",
   "execution_count": 83,
   "metadata": {},
   "outputs": [
    {
     "name": "stdout",
     "output_type": "stream",
     "text": [
      "1/1 [==============================] - 0s 50ms/step\n"
     ]
    }
   ],
   "source": [
    "# do the prediction\n",
    "predicted_stock_price = model.predict(x_test)\n",
    "# inverse the scaling\n",
    "predicted_stock_price = sc.inverse_transform(predicted_stock_price)"
   ]
  },
  {
   "cell_type": "code",
   "execution_count": 84,
   "metadata": {},
   "outputs": [
    {
     "data": {
      "text/plain": [
       "array([[120.49578],\n",
       "       [148.74431],\n",
       "       [190.13687],\n",
       "       [219.19221],\n",
       "       [229.6936 ],\n",
       "       [231.88513],\n",
       "       [231.37224],\n",
       "       [228.5105 ],\n",
       "       [225.07521],\n",
       "       [219.726  ],\n",
       "       [215.55617],\n",
       "       [214.14377],\n",
       "       [212.2927 ],\n",
       "       [213.12459],\n",
       "       [217.34325],\n",
       "       [223.47823]], dtype=float32)"
      ]
     },
     "execution_count": 84,
     "metadata": {},
     "output_type": "execute_result"
    }
   ],
   "source": [
    "predicted_stock_price"
   ]
  },
  {
   "cell_type": "code",
   "execution_count": 85,
   "metadata": {},
   "outputs": [
    {
     "data": {
      "image/png": "[encoded data removed]",
      "text/plain": [
       "<Figure size 640x480 with 1 Axes>"
      ]
     },
     "metadata": {},
     "output_type": "display_data"
    }
   ],
   "source": [
    "# visualizer the results\n",
    "plt.plot(test_set,color='red',label='Real Stock Price')\n",
    "plt.plot(predicted_stock_price,color='blue',label='Predicted Stock Price')\n",
    "plt.title('Stock Price Prediction')\n",
    "plt.legend()\n",
    "plt.show()"
   ]
  }
 ],
 "metadata": {
  "kernelspec": {
   "display_name": "Python 3",
   "language": "python",
   "name": "python3"
  },
  "language_info": {
   "codemirror_mode": {
    "name": "ipython",
    "version": 3
   },
   "file_extension": ".py",
   "mimetype": "text/x-python",
   "name": "python",
   "nbconvert_exporter": "python",
   "pygments_lexer": "ipython3",
   "version": "3.10.11"
  }
 },
 "nbformat": 4,
 "nbformat_minor": 2
}
