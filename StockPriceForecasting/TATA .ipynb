{
 "cells": [
  {
   "cell_type": "markdown",
   "metadata": {},
   "source": [
    "# Stock Prices Prediction Using Keras Long Term Short Memory"
   ]
  },
  {
   "cell_type": "code",
   "execution_count": 1,
   "metadata": {},
   "outputs": [
    {
     "name": "stdout",
     "output_type": "stream",
     "text": [
      "Requirement already satisfied: matplotlib in c:\\users\\praveen_prabha_ravin\\appdata\\local\\packages\\pythonsoftwarefoundation.python.3.10_qbz5n2kfra8p0\\localcache\\local-packages\\python310\\site-packages (3.8.0)"
     ]
    },
    {
     "name": "stderr",
     "output_type": "stream",
     "text": [
      "\n",
      "[notice] A new release of pip is available: 23.0.1 -> 23.3.1\n",
      "[notice] To update, run: C:\\Users\\Praveen_Prabha_Ravin\\AppData\\Local\\Microsoft\\WindowsApps\\PythonSoftwareFoundation.Python.3.10_qbz5n2kfra8p0\\python.exe -m pip install --upgrade pip\n"
     ]
    },
    {
     "name": "stdout",
     "output_type": "stream",
     "text": [
      "\n",
      "Requirement already satisfied: kiwisolver>=1.0.1 in c:\\users\\praveen_prabha_ravin\\appdata\\local\\packages\\pythonsoftwarefoundation.python.3.10_qbz5n2kfra8p0\\localcache\\local-packages\\python310\\site-packages (from matplotlib) (1.4.5)\n",
      "Requirement already satisfied: packaging>=20.0 in c:\\users\\praveen_prabha_ravin\\appdata\\local\\packages\\pythonsoftwarefoundation.python.3.10_qbz5n2kfra8p0\\localcache\\local-packages\\python310\\site-packages (from matplotlib) (23.0)\n",
      "Requirement already satisfied: fonttools>=4.22.0 in c:\\users\\praveen_prabha_ravin\\appdata\\local\\packages\\pythonsoftwarefoundation.python.3.10_qbz5n2kfra8p0\\localcache\\local-packages\\python310\\site-packages (from matplotlib) (4.43.1)\n",
      "Requirement already satisfied: contourpy>=1.0.1 in c:\\users\\praveen_prabha_ravin\\appdata\\local\\packages\\pythonsoftwarefoundation.python.3.10_qbz5n2kfra8p0\\localcache\\local-packages\\python310\\site-packages (from matplotlib) (1.1.1)\n",
      "Requirement already satisfied: python-dateutil>=2.7 in c:\\users\\praveen_prabha_ravin\\appdata\\local\\packages\\pythonsoftwarefoundation.python.3.10_qbz5n2kfra8p0\\localcache\\local-packages\\python310\\site-packages (from matplotlib) (2.8.2)\n",
      "Requirement already satisfied: cycler>=0.10 in c:\\users\\praveen_prabha_ravin\\appdata\\local\\packages\\pythonsoftwarefoundation.python.3.10_qbz5n2kfra8p0\\localcache\\local-packages\\python310\\site-packages (from matplotlib) (0.12.1)\n",
      "Requirement already satisfied: numpy<2,>=1.21 in c:\\users\\praveen_prabha_ravin\\appdata\\local\\packages\\pythonsoftwarefoundation.python.3.10_qbz5n2kfra8p0\\localcache\\local-packages\\python310\\site-packages (from matplotlib) (1.24.2)\n",
      "Requirement already satisfied: pillow>=6.2.0 in c:\\users\\praveen_prabha_ravin\\appdata\\local\\packages\\pythonsoftwarefoundation.python.3.10_qbz5n2kfra8p0\\localcache\\local-packages\\python310\\site-packages (from matplotlib) (10.1.0)\n",
      "Requirement already satisfied: pyparsing>=2.3.1 in c:\\users\\praveen_prabha_ravin\\appdata\\local\\packages\\pythonsoftwarefoundation.python.3.10_qbz5n2kfra8p0\\localcache\\local-packages\\python310\\site-packages (from matplotlib) (3.1.1)\n",
      "Requirement already satisfied: six>=1.5 in c:\\users\\praveen_prabha_ravin\\appdata\\local\\packages\\pythonsoftwarefoundation.python.3.10_qbz5n2kfra8p0\\localcache\\local-packages\\python310\\site-packages (from python-dateutil>=2.7->matplotlib) (1.16.0)\n",
      "Requirement already satisfied: pandas in c:\\users\\praveen_prabha_ravin\\appdata\\local\\packages\\pythonsoftwarefoundation.python.3.10_qbz5n2kfra8p0\\localcache\\local-packages\\python310\\site-packages (1.5.3)"
     ]
    },
    {
     "name": "stderr",
     "output_type": "stream",
     "text": [
      "\n",
      "[notice] A new release of pip is available: 23.0.1 -> 23.3.1\n",
      "[notice] To update, run: C:\\Users\\Praveen_Prabha_Ravin\\AppData\\Local\\Microsoft\\WindowsApps\\PythonSoftwareFoundation.Python.3.10_qbz5n2kfra8p0\\python.exe -m pip install --upgrade pip\n"
     ]
    },
    {
     "name": "stdout",
     "output_type": "stream",
     "text": [
      "\n",
      "Requirement already satisfied: pytz>=2020.1 in c:\\users\\praveen_prabha_ravin\\appdata\\local\\packages\\pythonsoftwarefoundation.python.3.10_qbz5n2kfra8p0\\localcache\\local-packages\\python310\\site-packages (from pandas) (2022.7.1)\n",
      "Requirement already satisfied: numpy>=1.21.0 in c:\\users\\praveen_prabha_ravin\\appdata\\local\\packages\\pythonsoftwarefoundation.python.3.10_qbz5n2kfra8p0\\localcache\\local-packages\\python310\\site-packages (from pandas) (1.24.2)\n",
      "Requirement already satisfied: python-dateutil>=2.8.1 in c:\\users\\praveen_prabha_ravin\\appdata\\local\\packages\\pythonsoftwarefoundation.python.3.10_qbz5n2kfra8p0\\localcache\\local-packages\\python310\\site-packages (from pandas) (2.8.2)\n",
      "Requirement already satisfied: six>=1.5 in c:\\users\\praveen_prabha_ravin\\appdata\\local\\packages\\pythonsoftwarefoundation.python.3.10_qbz5n2kfra8p0\\localcache\\local-packages\\python310\\site-packages (from python-dateutil>=2.8.1->pandas) (1.16.0)\n",
      "Requirement already satisfied: numpy in c:\\users\\praveen_prabha_ravin\\appdata\\local\\packages\\pythonsoftwarefoundation.python.3.10_qbz5n2kfra8p0\\localcache\\local-packages\\python310\\site-packages (1.24.2)\n"
     ]
    },
    {
     "name": "stderr",
     "output_type": "stream",
     "text": [
      "\n",
      "[notice] A new release of pip is available: 23.0.1 -> 23.3.1\n",
      "[notice] To update, run: C:\\Users\\Praveen_Prabha_Ravin\\AppData\\Local\\Microsoft\\WindowsApps\\PythonSoftwareFoundation.Python.3.10_qbz5n2kfra8p0\\python.exe -m pip install --upgrade pip\n"
     ]
    },
    {
     "name": "stdout",
     "output_type": "stream",
     "text": [
      "Requirement already satisfied: seaborn in c:\\users\\praveen_prabha_ravin\\appdata\\local\\packages\\pythonsoftwarefoundation.python.3.10_qbz5n2kfra8p0\\localcache\\local-packages\\python310\\site-packages (0.13.0)"
     ]
    },
    {
     "name": "stderr",
     "output_type": "stream",
     "text": [
      "\n",
      "[notice] A new release of pip is available: 23.0.1 -> 23.3.1\n",
      "[notice] To update, run: C:\\Users\\Praveen_Prabha_Ravin\\AppData\\Local\\Microsoft\\WindowsApps\\PythonSoftwareFoundation.Python.3.10_qbz5n2kfra8p0\\python.exe -m pip install --upgrade pip\n"
     ]
    },
    {
     "name": "stdout",
     "output_type": "stream",
     "text": [
      "\n",
      "Requirement already satisfied: matplotlib!=3.6.1,>=3.3 in c:\\users\\praveen_prabha_ravin\\appdata\\local\\packages\\pythonsoftwarefoundation.python.3.10_qbz5n2kfra8p0\\localcache\\local-packages\\python310\\site-packages (from seaborn) (3.8.0)\n",
      "Requirement already satisfied: pandas>=1.2 in c:\\users\\praveen_prabha_ravin\\appdata\\local\\packages\\pythonsoftwarefoundation.python.3.10_qbz5n2kfra8p0\\localcache\\local-packages\\python310\\site-packages (from seaborn) (1.5.3)\n",
      "Requirement already satisfied: numpy!=1.24.0,>=1.20 in c:\\users\\praveen_prabha_ravin\\appdata\\local\\packages\\pythonsoftwarefoundation.python.3.10_qbz5n2kfra8p0\\localcache\\local-packages\\python310\\site-packages (from seaborn) (1.24.2)\n",
      "Requirement already satisfied: python-dateutil>=2.7 in c:\\users\\praveen_prabha_ravin\\appdata\\local\\packages\\pythonsoftwarefoundation.python.3.10_qbz5n2kfra8p0\\localcache\\local-packages\\python310\\site-packages (from matplotlib!=3.6.1,>=3.3->seaborn) (2.8.2)\n",
      "Requirement already satisfied: pyparsing>=2.3.1 in c:\\users\\praveen_prabha_ravin\\appdata\\local\\packages\\pythonsoftwarefoundation.python.3.10_qbz5n2kfra8p0\\localcache\\local-packages\\python310\\site-packages (from matplotlib!=3.6.1,>=3.3->seaborn) (3.1.1)\n",
      "Requirement already satisfied: kiwisolver>=1.0.1 in c:\\users\\praveen_prabha_ravin\\appdata\\local\\packages\\pythonsoftwarefoundation.python.3.10_qbz5n2kfra8p0\\localcache\\local-packages\\python310\\site-packages (from matplotlib!=3.6.1,>=3.3->seaborn) (1.4.5)\n",
      "Requirement already satisfied: packaging>=20.0 in c:\\users\\praveen_prabha_ravin\\appdata\\local\\packages\\pythonsoftwarefoundation.python.3.10_qbz5n2kfra8p0\\localcache\\local-packages\\python310\\site-packages (from matplotlib!=3.6.1,>=3.3->seaborn) (23.0)\n",
      "Requirement already satisfied: contourpy>=1.0.1 in c:\\users\\praveen_prabha_ravin\\appdata\\local\\packages\\pythonsoftwarefoundation.python.3.10_qbz5n2kfra8p0\\localcache\\local-packages\\python310\\site-packages (from matplotlib!=3.6.1,>=3.3->seaborn) (1.1.1)\n",
      "Requirement already satisfied: cycler>=0.10 in c:\\users\\praveen_prabha_ravin\\appdata\\local\\packages\\pythonsoftwarefoundation.python.3.10_qbz5n2kfra8p0\\localcache\\local-packages\\python310\\site-packages (from matplotlib!=3.6.1,>=3.3->seaborn) (0.12.1)\n",
      "Requirement already satisfied: fonttools>=4.22.0 in c:\\users\\praveen_prabha_ravin\\appdata\\local\\packages\\pythonsoftwarefoundation.python.3.10_qbz5n2kfra8p0\\localcache\\local-packages\\python310\\site-packages (from matplotlib!=3.6.1,>=3.3->seaborn) (4.43.1)\n",
      "Requirement already satisfied: pillow>=6.2.0 in c:\\users\\praveen_prabha_ravin\\appdata\\local\\packages\\pythonsoftwarefoundation.python.3.10_qbz5n2kfra8p0\\localcache\\local-packages\\python310\\site-packages (from matplotlib!=3.6.1,>=3.3->seaborn) (10.1.0)\n",
      "Requirement already satisfied: pytz>=2020.1 in c:\\users\\praveen_prabha_ravin\\appdata\\local\\packages\\pythonsoftwarefoundation.python.3.10_qbz5n2kfra8p0\\localcache\\local-packages\\python310\\site-packages (from pandas>=1.2->seaborn) (2022.7.1)\n",
      "Requirement already satisfied: six>=1.5 in c:\\users\\praveen_prabha_ravin\\appdata\\local\\packages\\pythonsoftwarefoundation.python.3.10_qbz5n2kfra8p0\\localcache\\local-packages\\python310\\site-packages (from python-dateutil>=2.7->matplotlib!=3.6.1,>=3.3->seaborn) (1.16.0)\n"
     ]
    }
   ],
   "source": [
    "! pip3 install matplotlib\n",
    "! pip3 install pandas\n",
    "! pip3 install numpy\n",
    "! pip3 install seaborn\n"
   ]
  },
  {
   "cell_type": "code",
   "execution_count": 3,
   "metadata": {},
   "outputs": [
    {
     "name": "stdout",
     "output_type": "stream",
     "text": [
      "Collecting scikit-learn\n",
      "  Downloading scikit_learn-1.3.2-cp310-cp310-win_amd64.whl (9.3 MB)\n",
      "     ---------------------------------------- 0.0/9.3 MB ? eta -:--:--\n",
      "     ---------------------------------------- 0.1/9.3 MB 2.6 MB/s eta 0:00:04\n",
      "     - -------------------------------------- 0.4/9.3 MB 5.6 MB/s eta 0:00:02\n",
      "     ---- ----------------------------------- 1.1/9.3 MB 8.9 MB/s eta 0:00:01\n",
      "     ------- -------------------------------- 1.8/9.3 MB 10.7 MB/s eta 0:00:01\n",
      "     ------------- -------------------------- 3.1/9.3 MB 14.0 MB/s eta 0:00:01\n",
      "     ------------------- -------------------- 4.6/9.3 MB 17.3 MB/s eta 0:00:01\n",
      "     -------------------------- ------------- 6.1/9.3 MB 19.5 MB/s eta 0:00:01\n",
      "     ------------------------------ --------- 7.1/9.3 MB 19.8 MB/s eta 0:00:01\n",
      "     ------------------------------------- -- 8.6/9.3 MB 22.0 MB/s eta 0:00:01\n",
      "     ---------------------------------------  9.1/9.3 MB 20.8 MB/s eta 0:00:01\n",
      "     ---------------------------------------  9.2/9.3 MB 20.4 MB/s eta 0:00:01\n",
      "     ---------------------------------------- 9.3/9.3 MB 18.5 MB/s eta 0:00:00\n",
      "Requirement already satisfied: numpy<2.0,>=1.17.3 in c:\\users\\praveen_prabha_ravin\\appdata\\local\\packages\\pythonsoftwarefoundation.python.3.10_qbz5n2kfra8p0\\localcache\\local-packages\\python310\\site-packages (from scikit-learn) (1.24.2)\n",
      "Collecting threadpoolctl>=2.0.0\n",
      "  Downloading threadpoolctl-3.2.0-py3-none-any.whl (15 kB)\n",
      "Collecting scipy>=1.5.0\n",
      "  Downloading scipy-1.11.3-cp310-cp310-win_amd64.whl (44.1 MB)\n",
      "     ---------------------------------------- 0.0/44.1 MB ? eta -:--:--\n",
      "      --------------------------------------- 1.0/44.1 MB 60.8 MB/s eta 0:00:01\n",
      "     -- ------------------------------------- 2.9/44.1 MB 37.4 MB/s eta 0:00:02\n",
      "     --- ------------------------------------ 3.5/44.1 MB 28.3 MB/s eta 0:00:02\n",
      "     --- ------------------------------------ 4.2/44.1 MB 24.2 MB/s eta 0:00:02\n",
      "     ---- ----------------------------------- 5.0/44.1 MB 24.5 MB/s eta 0:00:02\n",
      "     ---- ----------------------------------- 5.0/44.1 MB 24.5 MB/s eta 0:00:02\n",
      "     ---- ----------------------------------- 5.1/44.1 MB 17.2 MB/s eta 0:00:03\n",
      "     ------ --------------------------------- 7.0/44.1 MB 19.5 MB/s eta 0:00:02\n",
      "     ------- -------------------------------- 8.2/44.1 MB 20.1 MB/s eta 0:00:02\n",
      "     -------- ------------------------------- 9.2/44.1 MB 20.9 MB/s eta 0:00:02\n",
      "     --------- ----------------------------- 10.8/44.1 MB 21.1 MB/s eta 0:00:02\n",
      "     ---------- ---------------------------- 12.0/44.1 MB 21.1 MB/s eta 0:00:02\n",
      "     ----------- --------------------------- 13.0/44.1 MB 19.8 MB/s eta 0:00:02\n",
      "     ------------ -------------------------- 14.4/44.1 MB 21.8 MB/s eta 0:00:02\n",
      "     ------------- ------------------------- 15.6/44.1 MB 29.7 MB/s eta 0:00:01\n",
      "     -------------- ------------------------ 16.8/44.1 MB 28.4 MB/s eta 0:00:01\n",
      "     --------------- ----------------------- 18.0/44.1 MB 27.3 MB/s eta 0:00:01\n",
      "     ----------------- --------------------- 19.7/44.1 MB 27.3 MB/s eta 0:00:01\n",
      "     ------------------ -------------------- 20.9/44.1 MB 28.5 MB/s eta 0:00:01\n",
      "     ------------------- ------------------- 22.2/44.1 MB 28.5 MB/s eta 0:00:01\n",
      "     -------------------- ------------------ 23.6/44.1 MB 29.7 MB/s eta 0:00:01\n",
      "     ---------------------- ---------------- 25.0/44.1 MB 29.7 MB/s eta 0:00:01\n",
      "     ----------------------- --------------- 26.1/44.1 MB 29.8 MB/s eta 0:00:01\n",
      "     ------------------------ -------------- 27.7/44.1 MB 29.7 MB/s eta 0:00:01\n",
      "     ------------------------- ------------- 28.4/44.1 MB 28.4 MB/s eta 0:00:01\n",
      "     ------------------------- ------------- 29.1/44.1 MB 28.5 MB/s eta 0:00:01\n",
      "     ------------------------- ------------- 29.1/44.1 MB 28.5 MB/s eta 0:00:01\n",
      "     --------------------------- ----------- 30.6/44.1 MB 23.4 MB/s eta 0:00:01\n",
      "     ---------------------------- ---------- 31.7/44.1 MB 23.4 MB/s eta 0:00:01\n",
      "     ----------------------------- --------- 33.0/44.1 MB 22.6 MB/s eta 0:00:01\n",
      "     ----------------------------- --------- 33.5/44.1 MB 21.1 MB/s eta 0:00:01\n",
      "     ------------------------------ -------- 34.5/44.1 MB 20.5 MB/s eta 0:00:01\n",
      "     ------------------------------ -------- 34.9/44.1 MB 19.8 MB/s eta 0:00:01\n",
      "     ------------------------------- ------- 36.2/44.1 MB 19.2 MB/s eta 0:00:01\n",
      "     -------------------------------- ------ 37.2/44.1 MB 18.7 MB/s eta 0:00:01\n",
      "     --------------------------------- ----- 38.2/44.1 MB 19.3 MB/s eta 0:00:01\n",
      "     ---------------------------------- ---- 38.7/44.1 MB 18.2 MB/s eta 0:00:01\n",
      "     ----------------------------------- --- 40.0/44.1 MB 20.5 MB/s eta 0:00:01\n",
      "     ----------------------------------- --- 40.5/44.1 MB 19.3 MB/s eta 0:00:01\n",
      "     ------------------------------------ -- 41.3/44.1 MB 18.7 MB/s eta 0:00:01\n",
      "     ------------------------------------- - 42.4/44.1 MB 19.2 MB/s eta 0:00:01\n",
      "     --------------------------------------  43.3/44.1 MB 19.2 MB/s eta 0:00:01\n",
      "     --------------------------------------  44.1/44.1 MB 19.3 MB/s eta 0:00:01\n",
      "     --------------------------------------  44.1/44.1 MB 19.3 MB/s eta 0:00:01\n",
      "     --------------------------------------- 44.1/44.1 MB 14.9 MB/s eta 0:00:00\n",
      "Collecting joblib>=1.1.1\n",
      "  Downloading joblib-1.3.2-py3-none-any.whl (302 kB)\n",
      "     ---------------------------------------- 0.0/302.2 kB ? eta -:--:--\n",
      "     ------------------------------------- 302.2/302.2 kB 18.2 MB/s eta 0:00:00\n",
      "Installing collected packages: threadpoolctl, scipy, joblib, scikit-learn\n",
      "Successfully installed joblib-1.3.2 scikit-learn-1.3.2 scipy-1.11.3 threadpoolctl-3.2.0\n"
     ]
    },
    {
     "name": "stderr",
     "output_type": "stream",
     "text": [
      "\n",
      "[notice] A new release of pip is available: 23.0.1 -> 23.3.1\n",
      "[notice] To update, run: C:\\Users\\Praveen_Prabha_Ravin\\AppData\\Local\\Microsoft\\WindowsApps\\PythonSoftwareFoundation.Python.3.10_qbz5n2kfra8p0\\python.exe -m pip install --upgrade pip\n"
     ]
    }
   ],
   "source": [
    "! pip install scikit-learn\n",
    "import sklearn"
   ]
  },
  {
   "cell_type": "code",
   "execution_count": 5,
   "metadata": {},
   "outputs": [
    {
     "name": "stdout",
     "output_type": "stream",
     "text": [
      "3.8.0\n"
     ]
    }
   ],
   "source": [
    "import matplotlib\n",
    "print(matplotlib.__version__)"
   ]
  },
  {
   "cell_type": "code",
   "execution_count": 6,
   "metadata": {},
   "outputs": [],
   "source": [
    "# Part 1 - Data Preprocessing\n",
    "\n",
    "# Importing the libraries\n",
    "import numpy as np\n",
    "import matplotlib.pyplot as plt\n",
    "import pandas as pd\n",
    "%matplotlib inline"
   ]
  },
  {
   "cell_type": "code",
   "execution_count": 7,
   "metadata": {},
   "outputs": [],
   "source": [
    "# Importing the training set\n",
    "dataset_train = pd.read_csv('data/NSE-TATAGLOBAL.csv')\n",
    "training_set = dataset_train.iloc[:, 1:2].values"
   ]
  },
  {
   "cell_type": "code",
   "execution_count": 10,
   "metadata": {},
   "outputs": [
    {
     "data": {
      "text/html": [
       "<div>\n",
       "<style scoped>\n",
       "    .dataframe tbody tr th:only-of-type {\n",
       "        vertical-align: middle;\n",
       "    }\n",
       "\n",
       "    .dataframe tbody tr th {\n",
       "        vertical-align: top;\n",
       "    }\n",
       "\n",
       "    .dataframe thead th {\n",
       "        text-align: right;\n",
       "    }\n",
       "</style>\n",
       "<table border=\"1\" class=\"dataframe\">\n",
       "  <thead>\n",
       "    <tr style=\"text-align: right;\">\n",
       "      <th></th>\n",
       "      <th>Date</th>\n",
       "      <th>Open</th>\n",
       "      <th>High</th>\n",
       "      <th>Low</th>\n",
       "      <th>Last</th>\n",
       "      <th>Close</th>\n",
       "      <th>Total Trade Quantity</th>\n",
       "      <th>Turnover (Lacs)</th>\n",
       "    </tr>\n",
       "  </thead>\n",
       "  <tbody>\n",
       "    <tr>\n",
       "      <th>0</th>\n",
       "      <td>2018-09-28</td>\n",
       "      <td>234.05</td>\n",
       "      <td>235.95</td>\n",
       "      <td>230.20</td>\n",
       "      <td>233.50</td>\n",
       "      <td>233.75</td>\n",
       "      <td>3069914</td>\n",
       "      <td>7162.35</td>\n",
       "    </tr>\n",
       "    <tr>\n",
       "      <th>1</th>\n",
       "      <td>2018-09-27</td>\n",
       "      <td>234.55</td>\n",
       "      <td>236.80</td>\n",
       "      <td>231.10</td>\n",
       "      <td>233.80</td>\n",
       "      <td>233.25</td>\n",
       "      <td>5082859</td>\n",
       "      <td>11859.95</td>\n",
       "    </tr>\n",
       "    <tr>\n",
       "      <th>2</th>\n",
       "      <td>2018-09-26</td>\n",
       "      <td>240.00</td>\n",
       "      <td>240.00</td>\n",
       "      <td>232.50</td>\n",
       "      <td>235.00</td>\n",
       "      <td>234.25</td>\n",
       "      <td>2240909</td>\n",
       "      <td>5248.60</td>\n",
       "    </tr>\n",
       "    <tr>\n",
       "      <th>3</th>\n",
       "      <td>2018-09-25</td>\n",
       "      <td>233.30</td>\n",
       "      <td>236.75</td>\n",
       "      <td>232.00</td>\n",
       "      <td>236.25</td>\n",
       "      <td>236.10</td>\n",
       "      <td>2349368</td>\n",
       "      <td>5503.90</td>\n",
       "    </tr>\n",
       "    <tr>\n",
       "      <th>4</th>\n",
       "      <td>2018-09-24</td>\n",
       "      <td>233.55</td>\n",
       "      <td>239.20</td>\n",
       "      <td>230.75</td>\n",
       "      <td>234.00</td>\n",
       "      <td>233.30</td>\n",
       "      <td>3423509</td>\n",
       "      <td>7999.55</td>\n",
       "    </tr>\n",
       "    <tr>\n",
       "      <th>...</th>\n",
       "      <td>...</td>\n",
       "      <td>...</td>\n",
       "      <td>...</td>\n",
       "      <td>...</td>\n",
       "      <td>...</td>\n",
       "      <td>...</td>\n",
       "      <td>...</td>\n",
       "      <td>...</td>\n",
       "    </tr>\n",
       "    <tr>\n",
       "      <th>2025</th>\n",
       "      <td>2010-08-03</td>\n",
       "      <td>118.30</td>\n",
       "      <td>119.95</td>\n",
       "      <td>117.90</td>\n",
       "      <td>118.65</td>\n",
       "      <td>118.30</td>\n",
       "      <td>611234</td>\n",
       "      <td>726.78</td>\n",
       "    </tr>\n",
       "    <tr>\n",
       "      <th>2026</th>\n",
       "      <td>2010-08-02</td>\n",
       "      <td>117.30</td>\n",
       "      <td>118.50</td>\n",
       "      <td>116.60</td>\n",
       "      <td>118.10</td>\n",
       "      <td>117.30</td>\n",
       "      <td>663593</td>\n",
       "      <td>779.85</td>\n",
       "    </tr>\n",
       "    <tr>\n",
       "      <th>2027</th>\n",
       "      <td>2010-07-30</td>\n",
       "      <td>116.50</td>\n",
       "      <td>118.00</td>\n",
       "      <td>114.60</td>\n",
       "      <td>115.85</td>\n",
       "      <td>116.05</td>\n",
       "      <td>2656191</td>\n",
       "      <td>3112.68</td>\n",
       "    </tr>\n",
       "    <tr>\n",
       "      <th>2028</th>\n",
       "      <td>2010-07-29</td>\n",
       "      <td>112.50</td>\n",
       "      <td>121.70</td>\n",
       "      <td>112.50</td>\n",
       "      <td>117.50</td>\n",
       "      <td>116.60</td>\n",
       "      <td>2359134</td>\n",
       "      <td>2791.03</td>\n",
       "    </tr>\n",
       "    <tr>\n",
       "      <th>2029</th>\n",
       "      <td>2010-07-28</td>\n",
       "      <td>118.00</td>\n",
       "      <td>120.50</td>\n",
       "      <td>117.20</td>\n",
       "      <td>118.15</td>\n",
       "      <td>118.25</td>\n",
       "      <td>835593</td>\n",
       "      <td>994.01</td>\n",
       "    </tr>\n",
       "  </tbody>\n",
       "</table>\n",
       "<p>2030 rows × 8 columns</p>\n",
       "</div>"
      ],
      "text/plain": [
       "            Date    Open    High     Low    Last   Close  \\\n",
       "0     2018-09-28  234.05  235.95  230.20  233.50  233.75   \n",
       "1     2018-09-27  234.55  236.80  231.10  233.80  233.25   \n",
       "2     2018-09-26  240.00  240.00  232.50  235.00  234.25   \n",
       "3     2018-09-25  233.30  236.75  232.00  236.25  236.10   \n",
       "4     2018-09-24  233.55  239.20  230.75  234.00  233.30   \n",
       "...          ...     ...     ...     ...     ...     ...   \n",
       "2025  2010-08-03  118.30  119.95  117.90  118.65  118.30   \n",
       "2026  2010-08-02  117.30  118.50  116.60  118.10  117.30   \n",
       "2027  2010-07-30  116.50  118.00  114.60  115.85  116.05   \n",
       "2028  2010-07-29  112.50  121.70  112.50  117.50  116.60   \n",
       "2029  2010-07-28  118.00  120.50  117.20  118.15  118.25   \n",
       "\n",
       "      Total Trade Quantity  Turnover (Lacs)  \n",
       "0                  3069914          7162.35  \n",
       "1                  5082859         11859.95  \n",
       "2                  2240909          5248.60  \n",
       "3                  2349368          5503.90  \n",
       "4                  3423509          7999.55  \n",
       "...                    ...              ...  \n",
       "2025                611234           726.78  \n",
       "2026                663593           779.85  \n",
       "2027               2656191          3112.68  \n",
       "2028               2359134          2791.03  \n",
       "2029                835593           994.01  \n",
       "\n",
       "[2030 rows x 8 columns]"
      ]
     },
     "execution_count": 10,
     "metadata": {},
     "output_type": "execute_result"
    }
   ],
   "source": [
    "dataset_train.head(-5)"
   ]
  },
  {
   "cell_type": "code",
   "execution_count": 11,
   "metadata": {},
   "outputs": [
    {
     "data": {
      "text/plain": [
       "<Axes: >"
      ]
     },
     "execution_count": 11,
     "metadata": {},
     "output_type": "execute_result"
    },
    {
     "data": {
      "image/png": "[encoded data removed]",
      "text/plain": [
       "<Figure size 1600x600 with 1 Axes>"
      ]
     },
     "metadata": {},
     "output_type": "display_data"
    }
   ],
   "source": [
    "dataset_train['Open'].plot(figsize=(16,6))"
   ]
  },
  {
   "cell_type": "code",
   "execution_count": 7,
   "metadata": {},
   "outputs": [
    {
     "data": {
      "text/plain": [
       "array([[234.05],\n",
       "       [234.55],\n",
       "       [240.  ],\n",
       "       ...,\n",
       "       [121.8 ],\n",
       "       [120.3 ],\n",
       "       [122.1 ]])"
      ]
     },
     "execution_count": 7,
     "metadata": {},
     "output_type": "execute_result"
    }
   ],
   "source": [
    "dataset_train.iloc[:, 1:2].values"
   ]
  },
  {
   "cell_type": "code",
   "execution_count": 10,
   "metadata": {},
   "outputs": [
    {
     "ename": "ModuleNotFoundError",
     "evalue": "No module named 'sklearn'",
     "output_type": "error",
     "traceback": [
      "\u001b[1;31m---------------------------------------------------------------------------\u001b[0m",
      "\u001b[1;31mModuleNotFoundError\u001b[0m                       Traceback (most recent call last)",
      "\u001b[1;32mc:\\Praveen\\Personal\\git\\MachineLearning\\StockPriceForecasting\\TATA .ipynb Cell 9\u001b[0m line \u001b[0;36m2\n\u001b[0;32m      <a href='vscode-notebook-cell:/c%3A/Praveen/Personal/git/MachineLearning/StockPriceForecasting/TATA%20.ipynb#X10sZmlsZQ%3D%3D?line=0'>1</a>\u001b[0m \u001b[39m# Feature Scaling\u001b[39;00m\n\u001b[1;32m----> <a href='vscode-notebook-cell:/c%3A/Praveen/Personal/git/MachineLearning/StockPriceForecasting/TATA%20.ipynb#X10sZmlsZQ%3D%3D?line=1'>2</a>\u001b[0m \u001b[39mimport\u001b[39;00m \u001b[39msklearn\u001b[39;00m\n\u001b[0;32m      <a href='vscode-notebook-cell:/c%3A/Praveen/Personal/git/MachineLearning/StockPriceForecasting/TATA%20.ipynb#X10sZmlsZQ%3D%3D?line=2'>3</a>\u001b[0m \u001b[39mfrom\u001b[39;00m \u001b[39msklearn\u001b[39;00m\u001b[39m.\u001b[39;00m\u001b[39mpreprocessing\u001b[39;00m \u001b[39mimport\u001b[39;00m MinMaxScaler\n\u001b[0;32m      <a href='vscode-notebook-cell:/c%3A/Praveen/Personal/git/MachineLearning/StockPriceForecasting/TATA%20.ipynb#X10sZmlsZQ%3D%3D?line=3'>4</a>\u001b[0m sc \u001b[39m=\u001b[39m MinMaxScaler(feature_range \u001b[39m=\u001b[39m (\u001b[39m0\u001b[39m, \u001b[39m1\u001b[39m))\n",
      "\u001b[1;31mModuleNotFoundError\u001b[0m: No module named 'sklearn'"
     ]
    }
   ],
   "source": [
    "# Feature Scaling\n",
    "\n",
    "from sklearn.preprocessing import MinMaxScaler\n",
    "sc = MinMaxScaler(feature_range = (0, 1))\n",
    "training_set_scaled = sc.fit_transform(training_set)"
   ]
  },
  {
   "cell_type": "code",
   "execution_count": 45,
   "metadata": {},
   "outputs": [],
   "source": [
    "# Creating a data structure with 60 timesteps and 1 output\n",
    "X_train = []\n",
    "y_train = []\n",
    "for i in range(60, 2035):\n",
    "    X_train.append(training_set_scaled[i-60:i, 0])\n",
    "    y_train.append(training_set_scaled[i, 0])\n",
    "X_train, y_train = np.array(X_train), np.array(y_train)"
   ]
  },
  {
   "cell_type": "code",
   "execution_count": 46,
   "metadata": {},
   "outputs": [],
   "source": [
    "# Reshaping\n",
    "X_train = np.reshape(X_train, (X_train.shape[0], X_train.shape[1], 1))"
   ]
  },
  {
   "cell_type": "code",
   "execution_count": 47,
   "metadata": {},
   "outputs": [],
   "source": [
    "# Part 2 - Building the RNN\n",
    "\n",
    "# Importing the Keras libraries and packages\n",
    "from keras.models import Sequential\n",
    "from keras.layers import Dense\n",
    "from keras.layers import LSTM\n",
    "from keras.layers import Dropout"
   ]
  },
  {
   "cell_type": "code",
   "execution_count": 48,
   "metadata": {},
   "outputs": [],
   "source": [
    "# Initialising the RNN\n",
    "regressor = Sequential()\n",
    "\n",
    "# Adding the first LSTM layer and some Dropout regularisation\n",
    "regressor.add(LSTM(units = 50, return_sequences = True, input_shape = (X_train.shape[1], 1)))\n",
    "regressor.add(Dropout(0.2))"
   ]
  },
  {
   "cell_type": "code",
   "execution_count": 49,
   "metadata": {},
   "outputs": [],
   "source": [
    "# Adding a second LSTM layer and some Dropout regularisation\n",
    "regressor.add(LSTM(units = 50, return_sequences = True))\n",
    "regressor.add(Dropout(0.2))"
   ]
  },
  {
   "cell_type": "code",
   "execution_count": 50,
   "metadata": {},
   "outputs": [],
   "source": [
    "\n",
    "# Adding a third LSTM layer and some Dropout regularisation\n",
    "regressor.add(LSTM(units = 50, return_sequences = True))\n",
    "regressor.add(Dropout(0.2))"
   ]
  },
  {
   "cell_type": "code",
   "execution_count": 51,
   "metadata": {},
   "outputs": [],
   "source": [
    "# Adding a fourth LSTM layer and some Dropout regularisation\n",
    "regressor.add(LSTM(units = 50))\n",
    "regressor.add(Dropout(0.2))\n"
   ]
  },
  {
   "cell_type": "code",
   "execution_count": 53,
   "metadata": {},
   "outputs": [
    {
     "name": "stdout",
     "output_type": "stream",
     "text": [
      "Epoch 1/50\n",
      "1975/1975 [==============================] - 18s 9ms/step - loss: 0.0072\n",
      "Epoch 2/50\n",
      "1975/1975 [==============================] - 11s 6ms/step - loss: 0.0028\n",
      "Epoch 3/50\n",
      "1975/1975 [==============================] - 12s 6ms/step - loss: 0.0025\n",
      "Epoch 4/50\n",
      "1975/1975 [==============================] - 12s 6ms/step - loss: 0.0029\n",
      "Epoch 5/50\n",
      "1975/1975 [==============================] - 12s 6ms/step - loss: 0.0023:\n",
      "Epoch 6/50\n",
      "1975/1975 [==============================] - 11s 6ms/step - loss: 0.0020\n",
      "Epoch 7/50\n",
      "1975/1975 [==============================] - 12s 6ms/step - loss: 0.0021\n",
      "Epoch 8/50\n",
      "1975/1975 [==============================] - 12s 6ms/step - loss: 0.0017\n",
      "Epoch 9/50\n",
      "1975/1975 [==============================] - 11s 6ms/step - loss: 0.0019\n",
      "Epoch 10/50\n",
      "1975/1975 [==============================] - 12s 6ms/step - loss: 0.0014\n",
      "Epoch 11/50\n",
      "1975/1975 [==============================] - 12s 6ms/step - loss: 0.0017\n",
      "Epoch 12/50\n",
      "1975/1975 [==============================] - 12s 6ms/step - loss: 0.0014\n",
      "Epoch 13/50\n",
      "1975/1975 [==============================] - 12s 6ms/step - loss: 0.0013\n",
      "Epoch 14/50\n",
      "1975/1975 [==============================] - 12s 6ms/step - loss: 0.0016\n",
      "Epoch 15/50\n",
      "1975/1975 [==============================] - 11s 6ms/step - loss: 0.0013\n",
      "Epoch 16/50\n",
      "1975/1975 [==============================] - 12s 6ms/step - loss: 0.0014\n",
      "Epoch 17/50\n",
      "1975/1975 [==============================] - 12s 6ms/step - loss: 0.0012\n",
      "Epoch 18/50\n",
      "1975/1975 [==============================] - 12s 6ms/step - loss: 0.0014\n",
      "Epoch 19/50\n",
      "1975/1975 [==============================] - 11s 6ms/step - loss: 0.0014\n",
      "Epoch 20/50\n",
      "1975/1975 [==============================] - 12s 6ms/step - loss: 0.0013\n",
      "Epoch 21/50\n",
      "1975/1975 [==============================] - 11s 6ms/step - loss: 0.0012\n",
      "Epoch 22/50\n",
      "1975/1975 [==============================] - 12s 6ms/step - loss: 0.0011\n",
      "Epoch 23/50\n",
      "1975/1975 [==============================] - 12s 6ms/step - loss: 0.0011\n",
      "Epoch 24/50\n",
      "1975/1975 [==============================] - 12s 6ms/step - loss: 9.6646e-04\n",
      "Epoch 25/50\n",
      "1975/1975 [==============================] - 12s 6ms/step - loss: 0.0011\n",
      "Epoch 26/50\n",
      "1975/1975 [==============================] - 12s 6ms/step - loss: 0.0013\n",
      "Epoch 27/50\n",
      "1975/1975 [==============================] - 12s 6ms/step - loss: 0.0011\n",
      "Epoch 28/50\n",
      "1975/1975 [==============================] - 12s 6ms/step - loss: 0.0011\n",
      "Epoch 29/50\n",
      "1975/1975 [==============================] - 12s 6ms/step - loss: 7.9903e-04\n",
      "Epoch 30/50\n",
      "1975/1975 [==============================] - 12s 6ms/step - loss: 9.1742e-04\n",
      "Epoch 31/50\n",
      "1975/1975 [==============================] - 12s 6ms/step - loss: 8.8319e-04\n",
      "Epoch 32/50\n",
      "1975/1975 [==============================] - 12s 6ms/step - loss: 0.0011\n",
      "Epoch 33/50\n",
      "1975/1975 [==============================] - 12s 6ms/step - loss: 9.8474e-04\n",
      "Epoch 34/50\n",
      "1975/1975 [==============================] - 12s 6ms/step - loss: 8.3015e-04\n",
      "Epoch 35/50\n",
      "1975/1975 [==============================] - 12s 6ms/step - loss: 8.2915e-04\n",
      "Epoch 36/50\n",
      "1975/1975 [==============================] - 12s 6ms/step - loss: 8.9258e-04\n",
      "Epoch 37/50\n",
      "1975/1975 [==============================] - 12s 6ms/step - loss: 7.6580e-04\n",
      "Epoch 38/50\n",
      "1975/1975 [==============================] - 12s 6ms/step - loss: 8.2826e-04\n",
      "Epoch 39/50\n",
      "1975/1975 [==============================] - 12s 6ms/step - loss: 8.3060e-04\n",
      "Epoch 40/50\n",
      "1975/1975 [==============================] - 12s 6ms/step - loss: 8.7937e-04\n",
      "Epoch 41/50\n",
      "1975/1975 [==============================] - 12s 6ms/step - loss: 9.0057e-04\n",
      "Epoch 42/50\n",
      "1975/1975 [==============================] - 11s 6ms/step - loss: 9.1055e-04\n",
      "Epoch 43/50\n",
      "1975/1975 [==============================] - 12s 6ms/step - loss: 7.5758e-04\n",
      "Epoch 44/50\n",
      "1975/1975 [==============================] - 12s 6ms/step - loss: 7.4699e-04\n",
      "Epoch 45/50\n",
      "1975/1975 [==============================] - 12s 6ms/step - loss: 7.0874e-04\n",
      "Epoch 46/50\n",
      "1975/1975 [==============================] - 12s 6ms/step - loss: 6.3398e-04\n",
      "Epoch 47/50\n",
      "1975/1975 [==============================] - 12s 6ms/step - loss: 7.7252e-04\n",
      "Epoch 48/50\n",
      "1975/1975 [==============================] - 12s 6ms/step - loss: 7.1604e-04\n",
      "Epoch 49/50\n",
      "1975/1975 [==============================] - 12s 6ms/step - loss: 8.1774e-04\n",
      "Epoch 50/50\n",
      "1975/1975 [==============================] - 12s 6ms/step - loss: 7.1733e-04\n"
     ]
    },
    {
     "data": {
      "text/plain": [
       "<keras.callbacks.History at 0x1f5b85a62b0>"
      ]
     },
     "execution_count": 53,
     "metadata": {},
     "output_type": "execute_result"
    }
   ],
   "source": [
    "# Adding the output layer\n",
    "regressor.add(Dense(units = 1))\n",
    "\n",
    "# Compiling the RNN\n",
    "regressor.compile(optimizer = 'adam', loss = 'mean_squared_error')\n",
    "\n",
    "# Fitting the RNN to the Training set\n",
    "regressor.fit(X_train, y_train, epochs = 50, batch_size = 32)\n",
    "\n"
   ]
  },
  {
   "cell_type": "code",
   "execution_count": 54,
   "metadata": {},
   "outputs": [],
   "source": [
    "# Part 3 - Making the predictions and visualising the results\n",
    "\n",
    "# Getting the real stock price of 2017\n",
    "dataset_test = pd.read_csv('tatatest.csv')\n",
    "real_stock_price = dataset_test.iloc[:, 1:2].values"
   ]
  },
  {
   "cell_type": "code",
   "execution_count": 55,
   "metadata": {},
   "outputs": [],
   "source": [
    "# Getting the predicted stock price of 2017\n",
    "dataset_total = pd.concat((dataset_train['Open'], dataset_test['Open']), axis = 0)\n",
    "inputs = dataset_total[len(dataset_total) - len(dataset_test) - 60:].values\n",
    "inputs = inputs.reshape(-1,1)\n",
    "inputs = sc.transform(inputs)\n",
    "X_test = []\n",
    "for i in range(60, 76):\n",
    "    X_test.append(inputs[i-60:i, 0])\n",
    "X_test = np.array(X_test)\n",
    "X_test = np.reshape(X_test, (X_test.shape[0], X_test.shape[1], 1))\n",
    "predicted_stock_price = regressor.predict(X_test)\n",
    "predicted_stock_price = sc.inverse_transform(predicted_stock_price)"
   ]
  },
  {
   "cell_type": "code",
   "execution_count": 56,
   "metadata": {},
   "outputs": [
    {
     "data": {
      "image/png": "[encoded data removed]",
      "text/plain": [
       "<Figure size 432x288 with 1 Axes>"
      ]
     },
     "metadata": {
      "needs_background": "light"
     },
     "output_type": "display_data"
    }
   ],
   "source": [
    "# Visualising the results\n",
    "plt.plot(real_stock_price, color = 'red', label = 'Real TATA Stock Price')\n",
    "plt.plot(predicted_stock_price, color = 'blue', label = 'Predicted TAT Stock Price')\n",
    "plt.title('TATA Stock Price Prediction')\n",
    "plt.xlabel('Time')\n",
    "plt.ylabel('TATA Stock Price')\n",
    "plt.legend()\n",
    "plt.show()"
   ]
  },
  {
   "cell_type": "code",
   "execution_count": null,
   "metadata": {},
   "outputs": [],
   "source": []
  }
 ],
 "metadata": {
  "kernelspec": {
   "display_name": "Python 3",
   "language": "python",
   "name": "python3"
  },
  "language_info": {
   "codemirror_mode": {
    "name": "ipython",
    "version": 3
   },
   "file_extension": ".py",
   "mimetype": "text/x-python",
   "name": "python",
   "nbconvert_exporter": "python",
   "pygments_lexer": "ipython3",
   "version": "3.10.11"
  }
 },
 "nbformat": 4,
 "nbformat_minor": 2
}
